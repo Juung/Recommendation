{
 "cells": [
  {
   "cell_type": "markdown",
   "metadata": {},
   "source": [
    "## Overview\n",
    "1. load Home and Kitchen data\n",
    "2. select reviewers who left more than 15 reviews (9,860)\n",
    "3. light preprocessing"
   ]
  },
  {
   "cell_type": "code",
   "execution_count": 30,
   "metadata": {
    "collapsed": false
   },
   "outputs": [],
   "source": [
    "import gzip\n",
    "import nltk\n",
    "import numpy as np\n",
    "import pandas as pd\n",
    "import pickle\n",
    "import matplotlib.pyplot as plt\n",
    "import re\n",
    "\n",
    "from tqdm import tqdm\n",
    "\n",
    "pd.set_option('display.max_colwidth', 600)\n",
    "%matplotlib inline"
   ]
  },
  {
   "cell_type": "code",
   "execution_count": 2,
   "metadata": {
    "collapsed": false
   },
   "outputs": [],
   "source": [
    "def parse(path):\n",
    "    g = gzip.open(path, 'rb')\n",
    "    for l in g:\n",
    "        yield eval(l)\n",
    "\n",
    "def getDF(path):\n",
    "    i = 0\n",
    "    df = {}\n",
    "    for d in parse(path):\n",
    "        df[i] = d\n",
    "        i += 1\n",
    "    return pd.DataFrame.from_dict(df, orient='index')\n",
    "\n",
    "data = getDF('reviews_Home_and_Kitchen.json.gz')"
   ]
  },
  {
   "cell_type": "markdown",
   "metadata": {},
   "source": [
    "## 1. Preprocessing\n",
    "\n",
    "* 개인 당 리뷰 수가 n개 이상인 경우\n",
    "* 시간 순 정렬"
   ]
  },
  {
   "cell_type": "code",
   "execution_count": 3,
   "metadata": {
    "collapsed": true
   },
   "outputs": [],
   "source": [
    "def left_reviewerId_over_n(data, n):\n",
    "    reviewer_dict = dict()\n",
    "    for id_ in data.reviewerID:\n",
    "        if reviewer_dict.get(id_): \n",
    "            reviewer_dict[id_] += 1\n",
    "        else:\n",
    "            reviewer_dict[id_] = 1\n",
    "    over_n = []\n",
    "    for id_, cnt in reviewer_dict.items():\n",
    "        if cnt >= n:\n",
    "            over_n.append(id_)\n",
    "    return over_n"
   ]
  },
  {
   "cell_type": "code",
   "execution_count": 4,
   "metadata": {
    "collapsed": true
   },
   "outputs": [],
   "source": [
    "n = 15"
   ]
  },
  {
   "cell_type": "code",
   "execution_count": 5,
   "metadata": {
    "collapsed": false
   },
   "outputs": [],
   "source": [
    "reviewer_over_n = left_reviewerId_over_n(data, n)"
   ]
  },
  {
   "cell_type": "code",
   "execution_count": 6,
   "metadata": {
    "collapsed": false
   },
   "outputs": [
    {
     "name": "stdout",
     "output_type": "stream",
     "text": [
      "reviewer whose number of reviews is over n: 9860\n"
     ]
    }
   ],
   "source": [
    "print(\"reviewer whose number of reviews is over n: {}\".format(len(reviewer_over_n))) # reviewer 수"
   ]
  },
  {
   "cell_type": "code",
   "execution_count": 7,
   "metadata": {
    "collapsed": true
   },
   "outputs": [],
   "source": [
    "data_over_n = data[data.reviewerID.isin(reviewer_over_n)]"
   ]
  },
  {
   "cell_type": "code",
   "execution_count": 8,
   "metadata": {
    "collapsed": true
   },
   "outputs": [],
   "source": [
    "del(data)"
   ]
  },
  {
   "cell_type": "code",
   "execution_count": 9,
   "metadata": {
    "collapsed": false
   },
   "outputs": [],
   "source": [
    "data_over_n.sort_values('unixReviewTime', inplace=True)"
   ]
  },
  {
   "cell_type": "code",
   "execution_count": 10,
   "metadata": {
    "collapsed": false
   },
   "outputs": [
    {
     "name": "stdout",
     "output_type": "stream",
     "text": [
      "number of items in data_over_n: 81221\n"
     ]
    }
   ],
   "source": [
    "print(\"number of items in data_over_n: {}\".format(len(set(data_over_n.asin))))"
   ]
  },
  {
   "cell_type": "markdown",
   "metadata": {},
   "source": [
    "### 1.1 text word indexing"
   ]
  },
  {
   "cell_type": "code",
   "execution_count": 11,
   "metadata": {
    "collapsed": true
   },
   "outputs": [],
   "source": [
    "lemma = nltk.wordnet.WordNetLemmatizer()"
   ]
  },
  {
   "cell_type": "code",
   "execution_count": 12,
   "metadata": {
    "collapsed": false
   },
   "outputs": [
    {
     "name": "stderr",
     "output_type": "stream",
     "text": [
      "100%|██████████| 244352/244352 [00:32<00:00, 7571.86it/s] \n"
     ]
    }
   ],
   "source": [
    "stemmed_review = []\n",
    "for review in tqdm(data_over_n.reviewText):\n",
    "    review = re.sub('\\*+', '', review)\n",
    "    review = re.sub('~+', '', review)\n",
    "    review = re.sub('-+', '', review)\n",
    "    review = re.sub('&quot;', '', review)\n",
    "    review = re.sub('\\&\\#\\d+\\;', ' ', review)\n",
    "    review = re.sub('_+', '', review)\n",
    "    review = re.sub('([a-zA-Z]+)\\.([a-zA-Z])', '\\\\1. \\\\2', review)\n",
    "    stemmed = lemma.lemmatize(review)\n",
    "    stemmed_review.append(stemmed)"
   ]
  },
  {
   "cell_type": "code",
   "execution_count": 13,
   "metadata": {
    "collapsed": false
   },
   "outputs": [],
   "source": [
    "cnt = 0\n",
    "while cnt < len(stemmed_review):\n",
    "    review = stemmed_review.pop(0)\n",
    "    review = re.sub('theprimula', 'the primula', review)\n",
    "    review = re.sub('thicknessit', 'thickness it', review)\n",
    "    review = re.sub('perfmance', 'performance', review)\n",
    "    review = re.sub('brakfakst', 'breakfast', review)\n",
    "    review = re.sub('readingsand', 'readings and', review)\n",
    "    review = re.sub('appletinis', 'appletin is', review)\n",
    "    review = re.sub('makerhas', 'maker has', review)\n",
    "    review = re.sub('durablegood', 'durable good', review)\n",
    "    review = re.sub('spacenegative', 'space negative', review)\n",
    "    review = re.sub('beveragecons', 'beverage cons', review)\n",
    "    review = re.sub('naturalnearby', 'natural nearby', review)\n",
    "    review = re.sub('rugfeatured', 'rug featured', review)\n",
    "    review = re.sub('cookingmeals', 'cooking meals', review)\n",
    "    review = re.sub('againstallgrain', 'against all grain', review)\n",
    "    review = re.sub('updatefirst', 'update first', review)\n",
    "    review = re.sub('lotif', 'lot if', review)\n",
    "    review = re.sub('sheetcakes', 'sheet cakes', review)\n",
    "    review = re.sub('modelsrating', 'models rating', review)\n",
    "    review = re.sub('versatilitycons', 'versatility cons', review)\n",
    "    review = re.sub('frustrationcons', 'frustrations cons', review)\n",
    "    review = re.sub('valueeasy', 'value easy', review)\n",
    "    review = re.sub('puttoppings', 'put toppings', review)\n",
    "    review = re.sub(\"don'tworry\", \"don't worry\", review)\n",
    "    review = re.sub('betterbut', 'better but', review)\n",
    "    review = re.sub('fightersnice', 'fighters nice', review)\n",
    "    review = re.sub('buttwhile', 'but while', review)\n",
    "    review = re.sub('colderthan', 'colder than', review)\n",
    "    review = re.sub('curtainsconsits', 'curtains cons its', review)\n",
    "    review = re.sub('moppingalthough', 'mopping although', review)\n",
    "    review = re.sub('receiversshelf', 'receivers shelf', review)\n",
    "    review = re.sub('oldoak', 'old oak', review)\n",
    "    review = re.sub('wasworried', 'was worried', review)\n",
    "    review = re.sub('myaroma', 'my aroma', review)\n",
    "    review = re.sub('thereplaicing', 'the replacing', review)\n",
    "    review = re.sub('pleasingb', 'pleasing', review)\n",
    "    review = re.sub('noisesturn', 'noises turn', review)\n",
    "    review = re.sub('sanitizebuild', 'sanitize build', review)\n",
    "    review = re.sub('andpulling', 'and pulling', review)\n",
    "    review = re.sub('extractorinstead', 'extractor instead', review)\n",
    "    review = re.sub('tocome','to come', review)\n",
    "    review = re.sub('peppercombine', 'pepper combine', review)\n",
    "    review = re.sub('ightweight', 'light weight', review)\n",
    "    review = re.sub(\"ratingi've\", \"rating i've\", review)\n",
    "    review = re.sub('pilllowcase', 'pillow case', review)\n",
    "    review = re.sub('toughbiggreenand', 'tough big green and', review)\n",
    "    review = re.sub('smartypants', 'smarty pants', review)\n",
    "    review = re.sub('metalworker', 'metal worker', review)\n",
    "    review = re.sub('quiterealistic', 'quite realistic', review)\n",
    "    review = re.sub('flimsyoverall', 'films overall', review)\n",
    "    review = re.sub('shortervictorinox', 'shorter victorinox', review)\n",
    "    review = re.sub('hungryhappenings', 'hungry happenings', review)\n",
    "    review = re.sub('portableairshop', 'portable air shop', review)\n",
    "    review = re.sub('elementis', 'elements', review)\n",
    "    review = re.sub('designunder', 'design under', review)\n",
    "    review = re.sub('adjustableinexpensivestainless', 'adjustable inexpensive stainless', review)\n",
    "    review = re.sub('minutesbefore', 'minutes before', review)\n",
    "    review = re.sub('breadbaking', 'bread baking', review)\n",
    "    review = re.sub('somewhathigher', 'somewhat higher', review)\n",
    "    review = re.sub('remotewith', 'remote with', review)\n",
    "    review = re.sub('teapotthat', 'teapot that', review)\n",
    "    review = re.sub('dishwashersafe', 'dishwasher safe', review)\n",
    "    review = re.sub('paperthe', 'paper the', review)\n",
    "    review = re.sub('grillpanthe', 'grill pan the', review)\n",
    "    review = re.sub('setbonjour', 'set bonjour', review)\n",
    "    review = re.sub('thewaiting', 'the waiting', review)\n",
    "    review = re.sub('buyinghttp', 'buying http', review)\n",
    "    review = re.sub('spacemy', 'space my', review)\n",
    "    review = re.sub('asomething', 'a something', review)\n",
    "    review = re.sub('mybonjour', 'my bonjour', review)\n",
    "    review = re.sub('newlodge', 'new lodge', review)\n",
    "    review = re.sub('lbsgross', 'lbs gross', review)\n",
    "    review = re.sub('cleanupgive', 'clean up give', review)\n",
    "    review = re.sub('teaupdate', 'tea update', review)\n",
    "    review = re.sub('thefrench', 'the french', review)\n",
    "    review = re.sub('eggwater', 'egg water', review)\n",
    "    review = re.sub('rollerto', 'roller to', review)\n",
    "    review = re.sub('thesecons', 'these cons', review)\n",
    "    review = re.sub('fridgethe', 'fridge the', review)\n",
    "    review = re.sub('overpricedthese', 'over priced these', review)\n",
    "    review = re.sub('freshmakes', 'fresh makes', review)\n",
    "    review = re.sub('slowwwlllllyy', 'slowly', review)\n",
    "    review = re.sub('12below', '12 below', review)\n",
    "    review = re.sub('installedto', 'installed to', review)\n",
    "    review = re.sub('bagscons', 'bags cons', review)\n",
    "    review = re.sub('vacuumwhcih', 'vacuum which', review)\n",
    "    review = re.sub('ergonomicsfolds', 'ergonomics folds', review)\n",
    "    review = re.sub('stationboth', 'station both', review)\n",
    "    review = re.sub('gotthe', 'got the', review)\n",
    "    review = re.sub('batteriescons', 'batteries cons', review)\n",
    "    review = re.sub('bakerhttp', 'baker http', review)\n",
    "    review = re.sub('getsmy', 'gets my', review)\n",
    "    review = re.sub('myhoover', 'my hoover', review)\n",
    "    review = re.sub('tacoproper', 'taco proper', review)\n",
    "    review = re.sub(\"it'sonly\", \"it's only\", review)\n",
    "    review = re.sub('steelmeasures', 'steel measures', review)\n",
    "    review = re.sub('technologypanasonic', 'technology panasonic', review)\n",
    "    review = re.sub('spiritsdate', 'spirits date', review)\n",
    "    review = re.sub('knowwhen', 'know when', review)\n",
    "    review = re.sub('toturn', 'to turn', review)\n",
    "    review = re.sub('gettingit', 'getting it', review)\n",
    "    review = re.sub('filtersbrush', 'filters brush', review)\n",
    "    review = re.sub('onereason', 'one reason', review)\n",
    "    review = re.sub('gradeproduct', 'grade product', review)\n",
    "    review = re.sub('handlesthe', 'handles the', review)\n",
    "    review = re.sub('capthere', 'cap there', review)\n",
    "    review = re.sub('warrantyyou', 'warranty you', review)\n",
    "    review = re.sub('veggiesthere', 'veggies there', review)\n",
    "    review = re.sub('deepupdated', 'deep updated', review)\n",
    "    review = re.sub('betterthis', 'better this', review)\n",
    "    review = re.sub('filtersthis', 'filters this', review)\n",
    "    review = re.sub('sohelpful', 'so helpful', review)\n",
    "    review = re.sub('absolutelya', 'absolutely a', review)\n",
    "    review = re.sub('bladefor', 'blade for', review)\n",
    "    review = re.sub('beachcamera', 'beach camera', review)\n",
    "    review = re.sub('teawith', 'tea with', review)\n",
    "    review = re.sub('properlyconsneeds', 'properly cons needs', review)\n",
    "    review = re.sub('paintedcons', 'painted cons', review)\n",
    "    review = re.sub('offlaking', 'off laking', review)\n",
    "    review = re.sub('theset', 'the set', review)\n",
    "    review = re.sub('thiseven', 'this even', review)\n",
    "    review = re.sub('bitsthere', 'bits there', review)\n",
    "    review = re.sub('siloconvert', 'silo convert', review)\n",
    "    review = re.sub('riiiiight', 'right', review)\n",
    "    review = re.sub('nicelywhen', 'nicely when', review)\n",
    "    review = re.sub('easethis', 'ease this', review)\n",
    "    review = re.sub('struggleoverall', 'struggle overall', review)\n",
    "    review = re.sub('tubesuction', 'tube suction', review)\n",
    "    review = re.sub('steamthe', 'steam the', review)\n",
    "    review = re.sub('mustardsalt', 'mustard salt', review)\n",
    "    review = re.sub('withbrownie', 'with brownie', review)\n",
    "    review = re.sub('pricecons', 'price cons', review)\n",
    "    review = re.sub('arrivedthe', 'arrived the', review)\n",
    "    review = re.sub('asharpening', 'a sharpening', review)\n",
    "    review = re.sub('andforefinger', 'and forefinger', review)\n",
    "    review = re.sub('downnaturally', 'down naturally', review)\n",
    "    review = re.sub('underneathsummary', 'underneath summary', review)\n",
    "    review = re.sub('jusssst', 'just', review)\n",
    "    review = re.sub('shoulderbags', 'shoulder bags', review)\n",
    "    review = re.sub('pepperdirectionscook', 'pepper dirctions cook', review)\n",
    "    review = re.sub('homemadecookiesandmore', 'homemade cookies and more', review)\n",
    "    review = re.sub('favoritewest', 'favorite west', review)\n",
    "    stemmed_review.append(review)\n",
    "    cnt += 1"
   ]
  },
  {
   "cell_type": "code",
   "execution_count": 14,
   "metadata": {
    "collapsed": false
   },
   "outputs": [
    {
     "name": "stderr",
     "output_type": "stream",
     "text": [
      "244352it [00:00, 430637.82it/s]\n"
     ]
    }
   ],
   "source": [
    "# add '.' to review\n",
    "for i, review in tqdm(enumerate(stemmed_review)):\n",
    "    if review.startswith('I recently upgraded from aGE Spacemaker XLwith the purchase of an LG overtherange microwave'):\n",
    "        stemmed_review.pop(i)\n",
    "        corrected = \"I recently upgraded from aGE Spacemaker XL with the purchase of an LG overtherange microwave 2 cubic ft., black, item number: LMV208SB. the Good attractive to look at, matches my kitchen decor perfectly. large LCD display is easy to see and read. includes many advanced and basic settings. has an 'EZON' feature which allows you to start cooking instantly with the press of this button. has dedicated buttons for popcorn and hot dogs. door opens on its own, there isn't another button that you need to press like on other microwaves for the door. the price was exceptional and with Amazn's free shipping. I defy anyone to find another retailer that can match their price. comes with a 1year warranty and if LG is anything like GE (I have no idea) they won't bat an eye if you call them for service even when the appliance is a few years old More/Less. Arrows allow you to subtract or add time while the microwave is in operation. tells you when to turn over food, when you're defrosting. extra large cooking capacity, and with the wrack it nearly doubles in size 1100 watts of power. the Bad it is incredibly heavy and bulky (nearly 70 pounds), have at least 2 strong men who can lift it when you install it. the door makes a loud clunking sound when it closes. there isn't a 'quick cook' button like GE had, the closest this has is EZOn, however that automatically defaults to 30 seconds the unit. doesn't constantly keep beeping to remind you that your food is ready. sometimes foods tend to get slightly soggy when taken off the 'hold warm' setting. the rotation cannot be turned off if it is set to keep warm. it's doing a number on my plastic dishes that are microwave safe, they're slightly bending, however since they're so inexpensive I do not mind too much. the Ugly it is a beast to clean/keep clean. it is a fingerprint/dust magnet picks up streaks very quickly. it can pick up scratches very, very easily. the Exceptional the Soften button allows you to soften butter, icecream, cream cheese and even frozen juice with the cooking sensors. the microwave cooks everything to the perfect temp and then shuts off automatically, this is great for TV dinners. with the Reheat button you can quickly heat up anything and the microwave will bring it to the perfect temp without any effort on your part dedicated. defrost settings for vegetables, beef and chicken with the Hold Warm button. I can now leave whatever I was cooking in it for up to 90 minutes and it will stay nice and hot, this'll save on power because I won't have to turn on the oven for this. able to automatically turn on the Hold Warm feature to follow another cooking function. EZOn feature can be extended in 30 second increments just by pressing it. Custom Cook can be programmed to cook any single time you use the most often (my only complaint about this is you still need to press the Start/Enter button). Things to Remember never use a brillo pad or abrasive sponge on this as it could scratch very easily. although I don't know why you would want to, never turn the microwave oven on if nothing is inside it. when you first get it, sometimes it makes slight crackling sounds as it's in operation, these are normal when this arrives. it will look HUGE in the manufacturer's box, don't worry that's just how it looks in the box. If anyone has any suggestions on how to keep this looking perfect and nice and shiny and glossy please let me know.\"\n",
    "        stemmed_review.insert(i, corrected)\n",
    "    elif review.startswith('This Microwave oven gets my highest rating even though Amazon only allows for five stars'):\n",
    "        stemmed_review.pop(i)\n",
    "        corrected = \"This Microwave oven gets my highest rating even though Amazon only allows for five stars. the oven is extremely fast and has the largest capacity for the price, also the quietest microwave oven I have ever heard or owned. I am amazed at the speed of cooking and reheating it can do and Amazon has the best and lowest price of any website I researched on. oven has a clock which was not stated on the description on the amazon page where it is located on. there is however downfall to this microwave oven which I was very surprised to. have witnessed for such an innovator of this type of oven they are known for their carousel that it did not have a luud beep when the oven is finished cooking or reheating. you really have to be in a room that is very quiet to hear this beeping sound for when the oven is finished. but all in all great oven great price and lots of cooking and reheating settings and loads of interior space. I was even able to put a Visions cookware pot in there without damaging the sides of the oven while the turntable is in motion which I thought I would not be able to do prior to receiving the oven. I did have a concern that I would not be able to use this particular pot in there because of damage it could cause. but I was pleasantly surprised I was able to put it in this oven If you own a lower wattage microwave oven and you purchase this one. you will also need to adjust your times by at least half the amount you already use on your current oven. I also love the minute plus setting, if you make a mistake in your time you can press this button to add one more extra minute. everytime until you reach the desired time, it is very handy if you are not sure just how much more time you need with your cooking and don't want to have to go all through the steps again to reset and start over. this button is so easy. just one press and you get an extra minute. I completely recommend this Microwave oven ot everyone, I just hope it last twenty years like my old Amana microwave did.\"\n",
    "        stemmed_review.insert(i, corrected)\n",
    "    elif review.startswith('this was very easy to put togetheri like the suction on itit is much better than'):\n",
    "        stemmed_review.pop(i)\n",
    "        corrected = \"this was very easy to put together. i like the suction on itit is much better than my other dirt devil. it is easy to use pretty light weight. it glides across the floor easily. there are a few things i do not like. wish it had a light on it for when i am going under things. i am so used to every other machine i have has one but this one does not. the wand is a bit klunky to take out to use it. i keep hitting myself on the plastic part that holds the hose when it is upright. as for the dirt cup i have yet to find any machine that i do not get a bit dirty when i have to empty it. this one if i just remember to dump it every single time i use it. then it is not so bad but when it gets clogged up and i have to stick my hand in there to twist it apart and let the clog get out then it is a huge mess. it is a bit odd where the cord comes out from the machine too close to the bottom of it and i have to keep picking it up to be sure not to run over it. seems like it could have been up above the on button. that is another issue with this machine. you have to put your foot in front of it to flip it down to use it. why not just have the down pedal in the back? we rarely use the dusting part of it. i was so excited to try this feature because we have butternut walls and ceilings all over our house to my dismay this feature is kind of a pain and just easier to get out my dust mopi give it three stars because there are simply too many downsides to overlook and i hope they improve on these things. overall the suction is really good so for daily cleaning of my carpets it is great. i just have learned to not use the wand much or the dusting feature\"\n",
    "        stemmed_review.insert(i, corrected)\n",
    "    elif review.startswith('have been using this mattress for a month nowlove it!one thing it will be hard to get used to not having'):\n",
    "        stemmed_review.pop(i)\n",
    "        corrected = \"have been using this mattress for a month now love it! one thing it will be hard to get used to not having to flip it though. i admit i am a flipper and our last mattress was over ten years old and i was always flipping it hoping to move the sags around. but this one i do not think will end up sagging like the other one did. it has a higher coil count than my last one did. so far this one i have no complaints of any kind for being able to get a good nights sleep. I am able to sleep and not wake up with a back achei did have to get new sheets though. thought i already had ones for deep pockets but they were not deep enough for this oneone tiny complaint i do have. it is harder to change the sheets. the material on the box spring and bottom of the mattress stick to each other instead of kind of sliding around and i wish the fabric on the boxspring was not so thin or fabric paper like. oh our older boxspring it was more like a waterproof tarp type material and not a single rip in it after ten years. this one came with a couple small tears in it so when i change the sheets have to lift the mattress up and move it around since it does not slide back into place at all. it is a softer bed just like it says plushso if you are looking for firm this is not going to be that bed for you.\"\n",
    "        stemmed_review.insert(i, corrected)"
   ]
  },
  {
   "cell_type": "code",
   "execution_count": 15,
   "metadata": {
    "collapsed": true
   },
   "outputs": [],
   "source": [
    "def split_to_sent(reviewText):\n",
    "    \"\"\"\n",
    "    reviewText to list of sentences\n",
    "    \"\"\"\n",
    "    reviewText = re.sub('([a-z]+)([A-Z]+)', '\\\\1\\. \\\\2', reviewText)\n",
    "    reviewText = re.sub('\\s\\.\\s\\.', '', reviewText)\n",
    "    reviewText = re.sub('\\s\\s', ' ', reviewText)\n",
    "    pattern = re.compile('(?<=\\.|\\?|\\!|\\;|[\\d\\)])(?<!\\w\\.\\w.)(?<![A-Z][a-z]\\.)\\s')\n",
    "    sents = re.split(pattern, reviewText)\n",
    "    return sents"
   ]
  },
  {
   "cell_type": "code",
   "execution_count": 16,
   "metadata": {
    "collapsed": false
   },
   "outputs": [
    {
     "name": "stderr",
     "output_type": "stream",
     "text": [
      "100%|██████████| 244352/244352 [00:37<00:00, 6495.93it/s] \n"
     ]
    }
   ],
   "source": [
    "# want to know sent_len distribution\n",
    "max_sent_len = 0\n",
    "for review in tqdm(stemmed_review):\n",
    "    sents = split_to_sent(review)\n",
    "    for sent in sents:\n",
    "        if len(sent) > max_sent_len:\n",
    "            max_sent_len = len(sent)"
   ]
  },
  {
   "cell_type": "code",
   "execution_count": 17,
   "metadata": {
    "collapsed": false
   },
   "outputs": [],
   "source": [
    "data_over_n['reviewText'] = stemmed_review"
   ]
  },
  {
   "cell_type": "code",
   "execution_count": 18,
   "metadata": {
    "collapsed": false
   },
   "outputs": [
    {
     "data": {
      "text/plain": [
       "(244352, 9)"
      ]
     },
     "execution_count": 18,
     "metadata": {},
     "output_type": "execute_result"
    }
   ],
   "source": [
    "data_over_n.shape"
   ]
  },
  {
   "cell_type": "code",
   "execution_count": 19,
   "metadata": {
    "collapsed": false
   },
   "outputs": [
    {
     "name": "stdout",
     "output_type": "stream",
     "text": [
      "maximum length of sentence in review: 1408\n"
     ]
    }
   ],
   "source": [
    "print(\"maximum length of sentence in review: {}\".format(max_sent_len))"
   ]
  },
  {
   "cell_type": "code",
   "execution_count": 20,
   "metadata": {
    "collapsed": true
   },
   "outputs": [],
   "source": [
    "def sent_to_mtx(sentence, row_size=1000):\n",
    "    \"\"\"\n",
    "    sentence to character-level matrix\n",
    "    \"\"\"\n",
    "    alphabet = \"abcdefghijklmnopqrstuvwxyz0123456789-,;.!?:'\\\"/\\\\|_@#$%^&*~`+-=<>()[]{}\\n\"\n",
    "    sentence = sentence.lower()\n",
    "    if len(sentence) > row_size:\n",
    "        sentence = sentence[:row_size]\n",
    "    char_mtx = np.zeros([row_size, len(alphabet)], dtype=np.float32)\n",
    "    for i, char in enumerate(sentence):\n",
    "        if char in alphabet:\n",
    "            char_mtx[i, alphabet.index(char)] = 1\n",
    "    return char_mtx"
   ]
  },
  {
   "cell_type": "code",
   "execution_count": 26,
   "metadata": {
    "collapsed": false
   },
   "outputs": [],
   "source": [
    "def convert_to_input(data_over_n):\n",
    "    \"\"\"\n",
    "    convert original review data to tensorflow input data\n",
    "    Args\n",
    "        data_over_n (dataframe): Amazon review data \n",
    "    Returns\n",
    "        input_ (dict): reviewerID as key, list of related attributes (asin, reviewText) are values \n",
    "    \"\"\"\n",
    "    input_ = dict()\n",
    "    for i in data_over_n.itertuples():\n",
    "        reviewerID, asin, reviewText, unixReviewTime, reviewTime = i[1], i[2], i[5], i[8], i[9]\n",
    "        if input_.get(reviewerID):\n",
    "            input_.get(reviewerID).append({'asin': asin, 'reviewText': reviewText, 'unixReviewTime': unixReviewTime, 'reviewTime': reviewTime})\n",
    "        else:\n",
    "            input_[reviewerID] = [{'asin': asin, 'reviewText': reviewText, 'unixReviewTime': unixReviewTime, 'reviewTime': reviewTime}]\n",
    "    return input_"
   ]
  },
  {
   "cell_type": "code",
   "execution_count": 27,
   "metadata": {
    "collapsed": false
   },
   "outputs": [],
   "source": [
    "data = convert_to_input(data_over_n)"
   ]
  },
  {
   "cell_type": "code",
   "execution_count": 29,
   "metadata": {
    "collapsed": false
   },
   "outputs": [
    {
     "name": "stdout",
     "output_type": "stream",
     "text": [
      "preprocessing is well done!\n"
     ]
    }
   ],
   "source": [
    "if len(set(data.keys())) == len(set(data_over_n.reviewerID)):\n",
    "    print(\"preprocessing is well done!\")"
   ]
  },
  {
   "cell_type": "code",
   "execution_count": 31,
   "metadata": {
    "collapsed": false
   },
   "outputs": [],
   "source": [
    "with open('data.pkl', 'wb') as f:\n",
    "    pickle.dump(data, f)"
   ]
  },
  {
   "cell_type": "code",
   "execution_count": null,
   "metadata": {
    "collapsed": true
   },
   "outputs": [],
   "source": []
  },
  {
   "cell_type": "code",
   "execution_count": null,
   "metadata": {
    "collapsed": true
   },
   "outputs": [],
   "source": []
  },
  {
   "cell_type": "code",
   "execution_count": null,
   "metadata": {
    "collapsed": true
   },
   "outputs": [],
   "source": []
  }
 ],
 "metadata": {
  "kernelspec": {
   "display_name": "Python 3",
   "language": "python",
   "name": "python3"
  },
  "language_info": {
   "codemirror_mode": {
    "name": "ipython",
    "version": 3
   },
   "file_extension": ".py",
   "mimetype": "text/x-python",
   "name": "python",
   "nbconvert_exporter": "python",
   "pygments_lexer": "ipython3",
   "version": "3.6.0"
  }
 },
 "nbformat": 4,
 "nbformat_minor": 2
}
