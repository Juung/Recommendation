{
 "cells": [
  {
   "cell_type": "code",
   "execution_count": 1,
   "metadata": {
    "collapsed": true
   },
   "outputs": [],
   "source": [
    "import pandas as pd\n",
    "import numpy as np\n",
    "import os\n",
    "import pickle\n",
    "from tqdm import tqdm"
   ]
  },
  {
   "cell_type": "code",
   "execution_count": 2,
   "metadata": {
    "collapsed": true
   },
   "outputs": [],
   "source": [
    "with open('data.pkl', 'rb') as f:\n",
    "    review = pickle.load(f)\n",
    "item_meta = np.load('item.npy').item()"
   ]
  },
  {
   "cell_type": "code",
   "execution_count": 20,
   "metadata": {
    "collapsed": true
   },
   "outputs": [],
   "source": [
    "def IntegratedData(item_data, review_data, threshold = 15):\n",
    "    data = dict()\n",
    "    for key in list(review_data.keys()):\n",
    "        item_list = []\n",
    "        for item in list(review_data[key]):\n",
    "            try:\n",
    "                id_ = item['asin']\n",
    "                img, price, category, brand = item_data[id_]\n",
    "                item['img'], item['price'], item['category'], item['brand'] = img, price, category, brand\n",
    "                item_list.append(item)\n",
    "            except:\n",
    "                pass\n",
    "        if len(item_list) >= threshold:\n",
    "            data[key] = item_list\n",
    "    return data"
   ]
  },
  {
   "cell_type": "code",
   "execution_count": 21,
   "metadata": {},
   "outputs": [
    {
     "name": "stderr",
     "output_type": "stream",
     "text": [
      "100%|██████████| 9860/9860 [00:00<00:00, 25122.75it/s]\n"
     ]
    }
   ],
   "source": [
    "data = IntegratedData(item_meta, review, 15)"
   ]
  },
  {
   "cell_type": "code",
   "execution_count": 29,
   "metadata": {
    "collapsed": true
   },
   "outputs": [],
   "source": [
    "with open('merge_data.pkl', 'wb') as f:\n",
    "    pickle.dump(data, f)"
   ]
  },
  {
   "cell_type": "markdown",
   "metadata": {},
   "source": [
    "# For count"
   ]
  },
  {
   "cell_type": "code",
   "execution_count": 23,
   "metadata": {
    "collapsed": true
   },
   "outputs": [],
   "source": [
    "count = dict()\n",
    "for key in list(data.keys()):\n",
    "    length = len(data[key])\n",
    "    if length in count.keys():\n",
    "        count[length] = count[length] +1\n",
    "    else:\n",
    "        count[length] = 1"
   ]
  },
  {
   "cell_type": "code",
   "execution_count": 24,
   "metadata": {},
   "outputs": [
    {
     "data": {
      "text/plain": [
       "{15: 645,\n",
       " 16: 522,\n",
       " 17: 439,\n",
       " 18: 389,\n",
       " 19: 303,\n",
       " 20: 253,\n",
       " 21: 219,\n",
       " 22: 195,\n",
       " 23: 134,\n",
       " 24: 143,\n",
       " 25: 135,\n",
       " 26: 102,\n",
       " 27: 93,\n",
       " 28: 71,\n",
       " 29: 71,\n",
       " 30: 51,\n",
       " 31: 51,\n",
       " 32: 47,\n",
       " 33: 48,\n",
       " 34: 45,\n",
       " 35: 31,\n",
       " 36: 32,\n",
       " 37: 25,\n",
       " 38: 37,\n",
       " 39: 31,\n",
       " 40: 17,\n",
       " 41: 19,\n",
       " 42: 18,\n",
       " 43: 15,\n",
       " 44: 17,\n",
       " 45: 11,\n",
       " 46: 24,\n",
       " 47: 11,\n",
       " 48: 10,\n",
       " 49: 7,\n",
       " 50: 13,\n",
       " 51: 10,\n",
       " 52: 12,\n",
       " 53: 9,\n",
       " 54: 7,\n",
       " 55: 7,\n",
       " 56: 7,\n",
       " 57: 4,\n",
       " 58: 10,\n",
       " 59: 6,\n",
       " 60: 4,\n",
       " 61: 3,\n",
       " 62: 3,\n",
       " 63: 2,\n",
       " 64: 5,\n",
       " 65: 4,\n",
       " 66: 5,\n",
       " 67: 3,\n",
       " 68: 2,\n",
       " 70: 1,\n",
       " 71: 3,\n",
       " 72: 3,\n",
       " 73: 2,\n",
       " 75: 3,\n",
       " 76: 1,\n",
       " 77: 2,\n",
       " 78: 2,\n",
       " 80: 2,\n",
       " 81: 2,\n",
       " 82: 1,\n",
       " 84: 2,\n",
       " 85: 1,\n",
       " 87: 4,\n",
       " 89: 1,\n",
       " 92: 1,\n",
       " 93: 1,\n",
       " 95: 3,\n",
       " 96: 3,\n",
       " 99: 3,\n",
       " 100: 1,\n",
       " 102: 2,\n",
       " 104: 1,\n",
       " 105: 1,\n",
       " 109: 1,\n",
       " 112: 1,\n",
       " 117: 1,\n",
       " 123: 1,\n",
       " 124: 1,\n",
       " 127: 1,\n",
       " 129: 1,\n",
       " 130: 1,\n",
       " 131: 2,\n",
       " 140: 1,\n",
       " 145: 1,\n",
       " 168: 1,\n",
       " 197: 1,\n",
       " 221: 1}"
      ]
     },
     "execution_count": 24,
     "metadata": {},
     "output_type": "execute_result"
    }
   ],
   "source": [
    "count"
   ]
  },
  {
   "cell_type": "code",
   "execution_count": 25,
   "metadata": {
    "collapsed": true,
    "scrolled": false
   },
   "outputs": [],
   "source": [
    "num = 0\n",
    "for i in count.keys():\n",
    "    if i>=15:\n",
    "        num += count[i]"
   ]
  },
  {
   "cell_type": "code",
   "execution_count": 26,
   "metadata": {},
   "outputs": [
    {
     "data": {
      "text/plain": [
       "4438"
      ]
     },
     "execution_count": 26,
     "metadata": {},
     "output_type": "execute_result"
    }
   ],
   "source": [
    "num"
   ]
  }
 ],
 "metadata": {
  "kernelspec": {
   "display_name": "Python 3",
   "language": "python",
   "name": "python3"
  },
  "language_info": {
   "codemirror_mode": {
    "name": "ipython",
    "version": 3
   },
   "file_extension": ".py",
   "mimetype": "text/x-python",
   "name": "python",
   "nbconvert_exporter": "python",
   "pygments_lexer": "ipython3",
   "version": "3.5.2"
  }
 },
 "nbformat": 4,
 "nbformat_minor": 2
}
