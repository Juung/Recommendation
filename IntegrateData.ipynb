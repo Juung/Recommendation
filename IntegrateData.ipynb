{
 "cells": [
  {
   "cell_type": "code",
   "execution_count": 1,
   "metadata": {
    "collapsed": true
   },
   "outputs": [],
   "source": [
    "import pandas as pd\n",
    "import numpy as np\n",
    "import os\n",
    "import pickle\n",
    "from tqdm import tqdm"
   ]
  },
  {
   "cell_type": "code",
   "execution_count": null,
   "metadata": {
    "collapsed": true
   },
   "outputs": [],
   "source": [
    "with open('data.pkl', 'rb') as f:\n",
    "    review = pickle.load(f)\n",
    "item_meta = np.load('item.npy').item()"
   ]
  },
  {
   "cell_type": "code",
   "execution_count": null,
   "metadata": {
    "collapsed": true
   },
   "outputs": [],
   "source": [
    "def IntegratedData(item_data, review_data, threshold = 15):\n",
    "    data = dict()\n",
    "    for key in list(review_data.keys()):\n",
    "        item_list = []\n",
    "        for item in list(review_data[key]):\n",
    "            try:\n",
    "                id_ = item['asin']\n",
    "                img, price, category, brand = item_data[id_]\n",
    "                item['img'], item['price'], item['category'], item['brand'] = img, price, category, brand\n",
    "                item_list.append(item)\n",
    "            except:\n",
    "                pass\n",
    "        if len(item_list) >= threshold:\n",
    "            data[key] = item_list\n",
    "    return data"
   ]
  },
  {
   "cell_type": "code",
   "execution_count": null,
   "metadata": {
    "collapsed": true
   },
   "outputs": [],
   "source": [
    "data = IntegratedData(item_meta, review, 5)"
   ]
  },
  {
   "cell_type": "code",
   "execution_count": null,
   "metadata": {
    "collapsed": true
   },
   "outputs": [],
   "source": [
    "with open('merge_data.pkl', 'wb') as f:\n",
    "    pickle.dump(data, f)"
   ]
  },
  {
   "cell_type": "markdown",
   "metadata": {},
   "source": [
    "# For count"
   ]
  },
  {
   "cell_type": "code",
   "execution_count": null,
   "metadata": {
    "collapsed": true
   },
   "outputs": [],
   "source": [
    "count = dict()\n",
    "for key in list(data.keys()):\n",
    "    length = len(data[key])\n",
    "    if length in count.keys():\n",
    "        count[length] = count[length] +1\n",
    "    else:\n",
    "        count[length] = 1"
   ]
  },
  {
   "cell_type": "code",
   "execution_count": null,
   "metadata": {
    "collapsed": true
   },
   "outputs": [],
   "source": [
    "count"
   ]
  },
  {
   "cell_type": "code",
   "execution_count": null,
   "metadata": {
    "collapsed": true,
    "scrolled": false
   },
   "outputs": [],
   "source": [
    "num = 0\n",
    "for i in count.keys():\n",
    "    if i>=15:\n",
    "        num += count[i]"
   ]
  },
  {
   "cell_type": "code",
   "execution_count": null,
   "metadata": {
    "collapsed": true
   },
   "outputs": [],
   "source": [
    "num"
   ]
  },
  {
   "cell_type": "markdown",
   "metadata": {
    "collapsed": true
   },
   "source": [
    "# split train / val / test"
   ]
  },
  {
   "cell_type": "code",
   "execution_count": 2,
   "metadata": {
    "collapsed": true
   },
   "outputs": [],
   "source": [
    "with open('merge_data.pkl', 'rb') as f:\n",
    "    data = pickle.load(f)"
   ]
  },
  {
   "cell_type": "markdown",
   "metadata": {},
   "source": [
    "### category -> hierarchical"
   ]
  },
  {
   "cell_type": "code",
   "execution_count": 12,
   "metadata": {},
   "outputs": [
    {
     "name": "stdout",
     "output_type": "stream",
     "text": [
      "5\n",
      "4\n",
      "5\n",
      "4\n",
      "4\n",
      "5\n",
      "4\n",
      "5\n",
      "4\n",
      "4\n",
      "3\n",
      "4\n",
      "5\n",
      "5\n"
     ]
    }
   ],
   "source": [
    "for user_id in data.keys():\n",
    "    for item in data[user_id]:\n",
    "        print(len(item['category'][0]))\n",
    "    break"
   ]
  },
  {
   "cell_type": "code",
   "execution_count": 3,
   "metadata": {},
   "outputs": [
    {
     "data": {
      "text/plain": [
       "61295"
      ]
     },
     "execution_count": 3,
     "metadata": {},
     "output_type": "execute_result"
    }
   ],
   "source": [
    "len(list(data.keys()))"
   ]
  },
  {
   "cell_type": "code",
   "execution_count": 3,
   "metadata": {
    "collapsed": true
   },
   "outputs": [],
   "source": [
    "def one_hot_dict(data_, category):\n",
    "    series = set()\n",
    "    for key_ in list(data_.keys()):\n",
    "        for item_ in data_[key_]:\n",
    "            if category == 'category':\n",
    "                for cate in item_[category][0]:\n",
    "                    series.add(cate)\n",
    "            else:\n",
    "                series.add(item_[category])\n",
    "\n",
    "    result_dict = dict()\n",
    "    for i, cell in enumerate(series):\n",
    "        one_hot = np.zeros(len(series), dtype = np.float32)\n",
    "        one_hot[i] = 1\n",
    "        result_dict[cell] = one_hot\n",
    "    \n",
    "    return result_dict"
   ]
  },
  {
   "cell_type": "code",
   "execution_count": 8,
   "metadata": {
    "collapsed": true
   },
   "outputs": [],
   "source": [
    "series = set()\n",
    "for key_ in list(data.keys()):\n",
    "    for item_ in data[key_]:\n",
    "        series.add(item_['price'])"
   ]
  },
  {
   "cell_type": "code",
   "execution_count": 12,
   "metadata": {},
   "outputs": [
    {
     "data": {
      "text/plain": [
       "(999.99000000000001, 0.01)"
      ]
     },
     "execution_count": 12,
     "metadata": {},
     "output_type": "execute_result"
    }
   ],
   "source": [
    "np.max(list(series)), np.min(list(series))"
   ]
  },
  {
   "cell_type": "code",
   "execution_count": 7,
   "metadata": {
    "collapsed": true
   },
   "outputs": [],
   "source": [
    "asin_dict = one_hot_dict(data, 'asin')\n",
    "# brand_dict = one_hot_dict(data, 'brand')\n",
    "category_dict = one_hot_dict(data, 'category')"
   ]
  },
  {
   "cell_type": "code",
   "execution_count": 6,
   "metadata": {},
   "outputs": [
    {
     "data": {
      "text/plain": [
       "(9033, 1007)"
      ]
     },
     "execution_count": 6,
     "metadata": {},
     "output_type": "execute_result"
    }
   ],
   "source": [
    "len(brand_dict.keys()), len(category_dict.keys())"
   ]
  },
  {
   "cell_type": "markdown",
   "metadata": {},
   "source": [
    "brand, cate, img, price, review"
   ]
  },
  {
   "cell_type": "code",
   "execution_count": 8,
   "metadata": {
    "collapsed": true
   },
   "outputs": [],
   "source": [
    "def split_data(data_, asin_dict, category_dict, mode,\n",
    "               n = 4, k = 2, val_num = 2, test_num = 2):\n",
    "    if n <= k :\n",
    "        print(\"invalid argument\")\n",
    "        return -1\n",
    "    result_imgs, result_reviews, result_meta, result_asins = [], [], [], []\n",
    "    asin_len, category_len = len(asin_dict.keys()), len(category_dict.keys())\n",
    "    \n",
    "    for key_ in tqdm(list(data_.keys())):\n",
    "        length = len(data_[key_])\n",
    "        # this is temporary threshold. it need to modify after discussing\n",
    "        # ex, if n = 5, k = 2, val = 3, test = 4, then length = 17, (0,10) (10,13) (13,17) \n",
    "        if length >= n + val_num + test_num + 1:\n",
    "            num_instance = length - n + 1 \n",
    "            if mode == 'train':\n",
    "                start, end = 0, num_instance - (val_num + test_num)\n",
    "            elif mode == 'val':\n",
    "                start, end = num_instance - (val_num + test_num) , num_instance - test_num\n",
    "            else:\n",
    "                start, end = num_instance - test_num, num_instance \n",
    "            \n",
    "            for num in range(start, end):\n",
    "                tmp_imgs, tmp_reviews, tmp_meta, tmp_asin = [], [], [], []\n",
    "                for count in range(0,n-k):\n",
    "                    tmp_item = data_[key_][num + count]\n",
    "                    tmp_imgs.append(tmp_item['img'])\n",
    "                    tmp_reviews.append(tmp_item['reviewText'])\n",
    "                    tmp_categories = np.zeros(category_len)\n",
    "                    for tmp_category in tmp_item['category'][0]:\n",
    "                        tmp_categories += category_dict[tmp_category]\n",
    "#                     tmp_brand = brand_dict[tmp_item['brand']]\n",
    "                    tmp_price = np.array([tmp_item['price']])\n",
    "                    tmp_meta.append(np.concatenate([tmp_categories, tmp_price]))\n",
    "                for count in range(n-k,n):\n",
    "                    tmp_item = data_[key_][num + count]\n",
    "                    tmp_asin.append(tmp_item['asin'])\n",
    "#                     tmp_asin.append(asin_dict[tmp_item['asin']])\n",
    "                result_imgs.append(np.array(tmp_imgs))\n",
    "                result_reviews.append(np.array(tmp_reviews))\n",
    "                result_meta.append(np.array(tmp_meta))\n",
    "                result_asins.append(np.array(tmp_asin))\n",
    "    return (result_imgs, result_reviews, result_meta, result_asins) "
   ]
  },
  {
   "cell_type": "code",
   "execution_count": 9,
   "metadata": {},
   "outputs": [
    {
     "name": "stderr",
     "output_type": "stream",
     "text": [
      "100%|██████████| 61295/61295 [00:07<00:00, 8587.03it/s] \n"
     ]
    }
   ],
   "source": [
    "train_dataset = split_data(data_ = data, asin_dict = asin_dict,\n",
    "           category_dict = category_dict, mode = 'train', n = 11, k = 1, val_num = 5, test_num = 5)\n",
    "# val_dataset = split_data(data_ = data , asin_dict = asin_dict,\n",
    "#            category_dict = category_dict, mode = 'val', n = 5, k = 2, val_num = 4, test_num = 3)\n",
    "# test_dataset = split_data(data_ = data , asin_dict = asin_dict,\n",
    "#            category_dict = category_dict, mode = 'test', n = 5, k = 2, val_num = 4, test_num = 3)\n"
   ]
  },
  {
   "cell_type": "code",
   "execution_count": 10,
   "metadata": {},
   "outputs": [
    {
     "data": {
      "text/plain": [
       "22664"
      ]
     },
     "execution_count": 10,
     "metadata": {},
     "output_type": "execute_result"
    }
   ],
   "source": [
    "len(train_dataset[0])"
   ]
  },
  {
   "cell_type": "code",
   "execution_count": 12,
   "metadata": {},
   "outputs": [],
   "source": [
    "with open('train.pkl', 'wb') as f:\n",
    "    pickle.dump(train_dataset, f)"
   ]
  },
  {
   "cell_type": "code",
   "execution_count": 13,
   "metadata": {
    "collapsed": true
   },
   "outputs": [],
   "source": [
    "# n = 11, k = 1, val = 5, test = 5 => about 4GB"
   ]
  }
 ],
 "metadata": {
  "kernelspec": {
   "display_name": "Python 3",
   "language": "python",
   "name": "python3"
  },
  "language_info": {
   "codemirror_mode": {
    "name": "ipython",
    "version": 3
   },
   "file_extension": ".py",
   "mimetype": "text/x-python",
   "name": "python",
   "nbconvert_exporter": "python",
   "pygments_lexer": "ipython3",
   "version": "3.5.2"
  }
 },
 "nbformat": 4,
 "nbformat_minor": 2
}
