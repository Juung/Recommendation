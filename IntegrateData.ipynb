{
 "cells": [
  {
   "cell_type": "code",
   "execution_count": 1,
   "metadata": {
    "collapsed": true
   },
   "outputs": [],
   "source": [
    "import pandas as pd\n",
    "import numpy as np\n",
    "import os\n",
    "import pickle\n",
    "from tqdm import tqdm\n",
    "import random"
   ]
  },
  {
   "cell_type": "code",
   "execution_count": 18,
   "metadata": {
    "collapsed": true
   },
   "outputs": [],
   "source": [
    "with open('data.pkl', 'rb') as f:\n",
    "    review = pickle.load(f)\n",
    "item_meta = np.load('item.npy').item()"
   ]
  },
  {
   "cell_type": "code",
   "execution_count": null,
   "metadata": {
    "collapsed": true
   },
   "outputs": [],
   "source": []
  },
  {
   "cell_type": "code",
   "execution_count": 30,
   "metadata": {
    "collapsed": true
   },
   "outputs": [],
   "source": [
    "def IntegratedData(item_data, review_data, threshold = 15):\n",
    "    data = dict()\n",
    "    for key in list(review_data.keys()):\n",
    "        item_list = []\n",
    "        for item in list(review_data[key]):\n",
    "            try:\n",
    "                id_ = item['asin']\n",
    "                img, price, category, _ = item_data[id_]\n",
    "                item['img'], item['price'], item['category'] = img, price, category\n",
    "                item_list.append(item)\n",
    "            except:\n",
    "                pass\n",
    "        if len(item_list) >= threshold:\n",
    "            data[key] = item_list\n",
    "    return data"
   ]
  },
  {
   "cell_type": "code",
   "execution_count": 31,
   "metadata": {
    "collapsed": true
   },
   "outputs": [],
   "source": [
    "data = IntegratedData(item_meta, review, threshold=20)"
   ]
  },
  {
   "cell_type": "code",
   "execution_count": 5,
   "metadata": {
    "collapsed": true
   },
   "outputs": [],
   "source": [
    "with open('merge_data.pkl', 'wb') as f:\n",
    "    pickle.dump(data, f)"
   ]
  },
  {
   "cell_type": "code",
   "execution_count": 33,
   "metadata": {
    "collapsed": false
   },
   "outputs": [
    {
     "data": {
      "text/plain": [
       "2140"
      ]
     },
     "execution_count": 33,
     "metadata": {},
     "output_type": "execute_result"
    }
   ],
   "source": [
    "len(list(data.keys()))"
   ]
  },
  {
   "cell_type": "markdown",
   "metadata": {},
   "source": [
    "# For count"
   ]
  },
  {
   "cell_type": "code",
   "execution_count": 6,
   "metadata": {
    "collapsed": true
   },
   "outputs": [],
   "source": [
    "count = dict()\n",
    "for key in list(data.keys()):\n",
    "    length = len(data[key])\n",
    "    if length in count.keys():\n",
    "        count[length] = count[length] +1\n",
    "    else:\n",
    "        count[length] = 1"
   ]
  },
  {
   "cell_type": "code",
   "execution_count": 7,
   "metadata": {
    "collapsed": false,
    "scrolled": true
   },
   "outputs": [
    {
     "data": {
      "text/plain": [
       "{20: 253,\n",
       " 21: 219,\n",
       " 22: 195,\n",
       " 23: 134,\n",
       " 24: 143,\n",
       " 25: 135,\n",
       " 26: 102,\n",
       " 27: 92,\n",
       " 28: 72,\n",
       " 29: 71,\n",
       " 30: 51,\n",
       " 31: 51,\n",
       " 32: 47,\n",
       " 33: 48,\n",
       " 34: 45,\n",
       " 35: 31,\n",
       " 36: 32,\n",
       " 37: 25,\n",
       " 38: 37,\n",
       " 39: 31,\n",
       " 40: 17,\n",
       " 41: 19,\n",
       " 42: 18,\n",
       " 43: 15,\n",
       " 44: 17,\n",
       " 45: 11,\n",
       " 46: 24,\n",
       " 47: 11,\n",
       " 48: 10,\n",
       " 49: 7,\n",
       " 50: 13,\n",
       " 51: 10,\n",
       " 52: 12,\n",
       " 53: 9,\n",
       " 54: 7,\n",
       " 55: 7,\n",
       " 56: 7,\n",
       " 57: 4,\n",
       " 58: 10,\n",
       " 59: 6,\n",
       " 60: 4,\n",
       " 61: 3,\n",
       " 62: 3,\n",
       " 63: 2,\n",
       " 64: 5,\n",
       " 65: 4,\n",
       " 66: 5,\n",
       " 67: 3,\n",
       " 68: 2,\n",
       " 70: 1,\n",
       " 71: 3,\n",
       " 72: 3,\n",
       " 73: 2,\n",
       " 75: 3,\n",
       " 76: 1,\n",
       " 77: 2,\n",
       " 78: 2,\n",
       " 80: 2,\n",
       " 81: 2,\n",
       " 82: 1,\n",
       " 84: 2,\n",
       " 85: 1,\n",
       " 87: 4,\n",
       " 89: 1,\n",
       " 92: 1,\n",
       " 93: 1,\n",
       " 95: 3,\n",
       " 96: 3,\n",
       " 99: 3,\n",
       " 100: 1,\n",
       " 102: 2,\n",
       " 104: 1,\n",
       " 105: 1,\n",
       " 109: 1,\n",
       " 112: 1,\n",
       " 117: 1,\n",
       " 123: 1,\n",
       " 124: 1,\n",
       " 127: 1,\n",
       " 129: 1,\n",
       " 130: 1,\n",
       " 131: 2,\n",
       " 140: 1,\n",
       " 145: 1,\n",
       " 168: 1,\n",
       " 197: 1,\n",
       " 221: 1}"
      ]
     },
     "execution_count": 7,
     "metadata": {},
     "output_type": "execute_result"
    }
   ],
   "source": [
    "count"
   ]
  },
  {
   "cell_type": "code",
   "execution_count": 8,
   "metadata": {
    "collapsed": true,
    "scrolled": false
   },
   "outputs": [],
   "source": [
    "num = 0\n",
    "for i in count.keys():\n",
    "    if i>=15:\n",
    "        num += count[i]"
   ]
  },
  {
   "cell_type": "code",
   "execution_count": 9,
   "metadata": {
    "collapsed": false
   },
   "outputs": [
    {
     "data": {
      "text/plain": [
       "2140"
      ]
     },
     "execution_count": 9,
     "metadata": {},
     "output_type": "execute_result"
    }
   ],
   "source": [
    "num"
   ]
  },
  {
   "cell_type": "markdown",
   "metadata": {
    "collapsed": true
   },
   "source": [
    "# split train / val / test"
   ]
  },
  {
   "cell_type": "code",
   "execution_count": 10,
   "metadata": {
    "collapsed": true
   },
   "outputs": [],
   "source": [
    "with open('merge_data.pkl', 'rb') as f:\n",
    "    data = pickle.load(f)"
   ]
  },
  {
   "cell_type": "markdown",
   "metadata": {},
   "source": [
    "### category -> hierarchical"
   ]
  },
  {
   "cell_type": "code",
   "execution_count": 11,
   "metadata": {
    "collapsed": true
   },
   "outputs": [],
   "source": [
    "cate_level_0 = set()\n",
    "cate_level_1 = set()\n",
    "cate_level_2 = set()\n",
    "cate_level_3 = set()\n",
    "for user_id in data.keys():\n",
    "    for item in data[user_id]:\n",
    "        try:\n",
    "            cate_level_0.add(item['category'][0][0])\n",
    "            cate_level_1.add(item['category'][0][1])\n",
    "            cate_level_2.add(item['category'][0][2])\n",
    "            cate_level_3.add(item['category'][0][3])\n",
    "        except:\n",
    "            pass"
   ]
  },
  {
   "cell_type": "code",
   "execution_count": 12,
   "metadata": {
    "collapsed": false
   },
   "outputs": [
    {
     "data": {
      "text/plain": [
       "(1, 10, 74, 374)"
      ]
     },
     "execution_count": 12,
     "metadata": {},
     "output_type": "execute_result"
    }
   ],
   "source": [
    "len(cate_level_0),len(cate_level_1),len(cate_level_2),len(cate_level_3)"
   ]
  },
  {
   "cell_type": "code",
   "execution_count": 34,
   "metadata": {
    "collapsed": true
   },
   "outputs": [],
   "source": [
    "def one_hot_dict(data_, category):\n",
    "    series = set()\n",
    "    for key_ in list(data_.keys()):\n",
    "        for item_ in data_[key_]:\n",
    "            if category == 'category':\n",
    "                for cate in item_[category][0][:3]:\n",
    "                    series.add(cate)\n",
    "            else:\n",
    "                series.add(item_[category])\n",
    "    result_dict = dict()\n",
    "\n",
    "    for i, cell in enumerate(series):\n",
    "        one_hot = np.zeros(len(series), dtype = np.float32)\n",
    "        one_hot[i] = 1\n",
    "        result_dict[cell] = one_hot\n",
    "    \n",
    "    return result_dict"
   ]
  },
  {
   "cell_type": "code",
   "execution_count": 35,
   "metadata": {
    "collapsed": true
   },
   "outputs": [],
   "source": [
    "asin_dict = one_hot_dict(data, 'asin')\n",
    "# brand_dict = one_hot_dict(data, 'brand')\n",
    "category_dict = one_hot_dict(data, 'category')"
   ]
  },
  {
   "cell_type": "code",
   "execution_count": 36,
   "metadata": {
    "collapsed": false
   },
   "outputs": [
    {
     "data": {
      "text/plain": [
       "array([ 1.,  0.,  0., ...,  0.,  0.,  0.], dtype=float32)"
      ]
     },
     "execution_count": 36,
     "metadata": {},
     "output_type": "execute_result"
    }
   ],
   "source": [
    "asin_dict[list(asin_dict.keys())[0]]"
   ]
  },
  {
   "cell_type": "code",
   "execution_count": 37,
   "metadata": {
    "collapsed": false
   },
   "outputs": [
    {
     "data": {
      "text/plain": [
       "23273"
      ]
     },
     "execution_count": 37,
     "metadata": {},
     "output_type": "execute_result"
    }
   ],
   "source": [
    "len(asin_dict[list(asin_dict.keys())[0]])"
   ]
  },
  {
   "cell_type": "code",
   "execution_count": 38,
   "metadata": {
    "collapsed": false
   },
   "outputs": [
    {
     "data": {
      "text/plain": [
       "84"
      ]
     },
     "execution_count": 38,
     "metadata": {},
     "output_type": "execute_result"
    }
   ],
   "source": [
    "len(category_dict[list(category_dict.keys())[0]])"
   ]
  },
  {
   "cell_type": "code",
   "execution_count": 39,
   "metadata": {
    "collapsed": true
   },
   "outputs": [],
   "source": [
    "del review\n",
    "del item_meta"
   ]
  },
  {
   "cell_type": "markdown",
   "metadata": {},
   "source": [
    "brand, cate, img, price, review"
   ]
  },
  {
   "cell_type": "code",
   "execution_count": 40,
   "metadata": {
    "collapsed": true
   },
   "outputs": [],
   "source": [
    "def split_data(data_, category_dict, mode, n = 4, k = 2, val_num = 2, test_num = 2):\n",
    "    if n <= k :\n",
    "        print(\"invalid argument\")\n",
    "        return -1\n",
    "    result_imgs, result_reviews, result_meta, result_asins = [], [], [], []\n",
    "    category_len = len(category_dict.keys())\n",
    "    tqdm_ = 0\n",
    "    \n",
    "    key_list = list(data_.keys())\n",
    "    random.shuffle(key_list)\n",
    "    for key_ in key_list:\n",
    "        length = len(data_[key_])\n",
    "        # this is temporary threshold. it need to modify after discussing\n",
    "        # ex, if n = 5, k = 2, val = 3, test = 4, then length = 17, (0,10) (10,13) (13,17) \n",
    "        if length >= n + val_num + test_num + 1:\n",
    "            num_instance = length - n + 1 \n",
    "            if mode == 'train':\n",
    "                start, end = 0, num_instance - (val_num + test_num)\n",
    "            elif mode == 'val':\n",
    "                start, end = num_instance - (val_num + test_num) , num_instance - test_num\n",
    "            else:\n",
    "                start, end = num_instance - test_num, num_instance \n",
    "            \n",
    "            for num in range(start, end):\n",
    "                tmp_imgs, tmp_reviews, tmp_meta, tmp_asin = [], [], [], []\n",
    "                for count in range(0,n-k):\n",
    "                    tmp_item = data_[key_][num + count]\n",
    "                    tmp_imgs.append(tmp_item['img'])\n",
    "                    tmp_reviews.append(tmp_item['reviewText'])\n",
    "                    tmp_categories = np.zeros(category_len)\n",
    "                    for tmp_category in tmp_item['category'][0][:3]:\n",
    "                        tmp_categories += category_dict[tmp_category]\n",
    "#                     tmp_brand = brand_dict[tmp_item['brand']]\n",
    "                    tmp_price = np.array([tmp_item['price']/1000])\n",
    "                    tmp_meta.append(np.concatenate([tmp_categories, tmp_price]))\n",
    "                for count in range(n-k,n):\n",
    "                    tmp_item = data_[key_][num + count]\n",
    "                    tmp_asin.append(tmp_item['asin'])\n",
    "#                     tmp_asin.append(asin_dict[tmp_item['asin']])\n",
    "                result_imgs.append(np.array(tmp_imgs))\n",
    "                result_reviews.append(np.array(tmp_reviews))\n",
    "                result_meta.append(np.array(tmp_meta))\n",
    "                result_asins.append(np.array(tmp_asin))\n",
    "                tqdm_ += 1\n",
    "        \n",
    "                if tqdm_ % 1000 == 0:\n",
    "                    print(tqdm_,\"instances saved!\")\n",
    "                    yield (result_imgs, result_reviews, result_meta, result_asins)\n",
    "                    result_imgs, result_reviews, result_meta, result_asins = [], [], [], []\n",
    "    print(tqdm_, \"last instances saved!\")\n",
    "    yield (result_imgs, result_reviews, result_meta, result_asins) "
   ]
  },
  {
   "cell_type": "code",
   "execution_count": 41,
   "metadata": {
    "collapsed": true
   },
   "outputs": [],
   "source": [
    "train_dataset = split_data(data_ = data, category_dict = category_dict, mode = 'train', n = 11, k = 1, val_num = 5, test_num = 5)\n",
    "val_dataset = split_data(data_ = data , category_dict = category_dict, mode = 'val', n = 11, k = 1, val_num = 5, test_num = 5)\n",
    "test_dataset = split_data(data_ = data , category_dict = category_dict, mode = 'test', n = 11, k = 1, val_num = 5, test_num = 5)"
   ]
  },
  {
   "cell_type": "code",
   "execution_count": 42,
   "metadata": {
    "collapsed": false
   },
   "outputs": [
    {
     "name": "stdout",
     "output_type": "stream",
     "text": [
      "1000 instances saved!\n"
     ]
    }
   ],
   "source": [
    "for index, train in enumerate(train_dataset):\n",
    "    with open('data/train_'+str(index)+\".pkl\", 'wb') as f:\n",
    "        pickle.dump(train, f)\n",
    "    break"
   ]
  },
  {
   "cell_type": "code",
   "execution_count": 30,
   "metadata": {
    "collapsed": false
   },
   "outputs": [
    {
     "name": "stdout",
     "output_type": "stream",
     "text": [
      "6000 instances saved!\n"
     ]
    }
   ],
   "source": [
    "for index, train in enumerate(train_dataset):\n",
    "    with open('data/train_6.pkl', 'wb') as f:\n",
    "        pickle.dump(train, f)\n",
    "    break"
   ]
  },
  {
   "cell_type": "code",
   "execution_count": 22,
   "metadata": {
    "collapsed": false
   },
   "outputs": [
    {
     "name": "stdout",
     "output_type": "stream",
     "text": [
      "2000 instances saved!\n",
      "3000 instances saved!\n"
     ]
    },
    {
     "ename": "OSError",
     "evalue": "[Errno 28] No space left on device",
     "output_type": "error",
     "traceback": [
      "\u001b[0;31m---------------------------------------------------------------------------\u001b[0m",
      "\u001b[0;31mOSError\u001b[0m                                   Traceback (most recent call last)",
      "\u001b[0;32m<ipython-input-22-775bf885fba1>\u001b[0m in \u001b[0;36m<module>\u001b[0;34m()\u001b[0m\n\u001b[1;32m      1\u001b[0m \u001b[0;32mfor\u001b[0m \u001b[0mindex\u001b[0m\u001b[0;34m,\u001b[0m \u001b[0mtrain\u001b[0m \u001b[0;32min\u001b[0m \u001b[0menumerate\u001b[0m\u001b[0;34m(\u001b[0m\u001b[0mtrain_dataset\u001b[0m\u001b[0;34m)\u001b[0m\u001b[0;34m:\u001b[0m\u001b[0;34m\u001b[0m\u001b[0m\n\u001b[1;32m      2\u001b[0m     \u001b[0;32mwith\u001b[0m \u001b[0mopen\u001b[0m\u001b[0;34m(\u001b[0m\u001b[0;34m'train_'\u001b[0m\u001b[0;34m+\u001b[0m\u001b[0mstr\u001b[0m\u001b[0;34m(\u001b[0m\u001b[0mindex\u001b[0m\u001b[0;34m)\u001b[0m\u001b[0;34m+\u001b[0m\u001b[0;34m\".pkl\"\u001b[0m\u001b[0;34m,\u001b[0m \u001b[0;34m'wb'\u001b[0m\u001b[0;34m)\u001b[0m \u001b[0;32mas\u001b[0m \u001b[0mf\u001b[0m\u001b[0;34m:\u001b[0m\u001b[0;34m\u001b[0m\u001b[0m\n\u001b[0;32m----> 3\u001b[0;31m         \u001b[0mpickle\u001b[0m\u001b[0;34m.\u001b[0m\u001b[0mdump\u001b[0m\u001b[0;34m(\u001b[0m\u001b[0mtrain\u001b[0m\u001b[0;34m,\u001b[0m \u001b[0mf\u001b[0m\u001b[0;34m)\u001b[0m\u001b[0;34m\u001b[0m\u001b[0m\n\u001b[0m\u001b[1;32m      4\u001b[0m \u001b[0;32mdel\u001b[0m \u001b[0mtrain\u001b[0m\u001b[0;34m\u001b[0m\u001b[0m\n\u001b[1;32m      5\u001b[0m \u001b[0;32mdel\u001b[0m \u001b[0mtrain_dataset\u001b[0m\u001b[0;34m\u001b[0m\u001b[0m\n",
      "\u001b[0;31mOSError\u001b[0m: [Errno 28] No space left on device"
     ]
    }
   ],
   "source": [
    "for index, train in enumerate(train_dataset):\n",
    "    with open('train_'+str(index)+\".pkl\", 'wb') as f:\n",
    "        pickle.dump(train, f)\n",
    "del train\n",
    "del train_dataset\n",
    "for index, val in enumerate(val_dataset):\n",
    "    with open('val_'+str(index)+\".pkl\", 'wb') as f:\n",
    "        pickle.dump(val, f)\n",
    "del val\n",
    "del val_dataset\n",
    "for index, test in enumerate(test_dataset):\n",
    "    with open('test_'+str(index)+\".pkl\", 'wb') as f:\n",
    "        pickle.dump(test, f)\n",
    "del test\n",
    "del test_dataset"
   ]
  },
  {
   "cell_type": "code",
   "execution_count": null,
   "metadata": {
    "collapsed": false
   },
   "outputs": [],
   "source": [
    "with open('train_0.pkl', 'rb') as f:\n",
    "    train = pickle.load(f)\n",
    "train[0][0].shape, train[1][0].shape, train[2][0].shape, train[3][0].shape"
   ]
  },
  {
   "cell_type": "code",
   "execution_count": null,
   "metadata": {
    "collapsed": true
   },
   "outputs": [],
   "source": []
  }
 ],
 "metadata": {
  "kernelspec": {
   "display_name": "Python 3",
   "language": "python",
   "name": "python3"
  },
  "language_info": {
   "codemirror_mode": {
    "name": "ipython",
    "version": 3
   },
   "file_extension": ".py",
   "mimetype": "text/x-python",
   "name": "python",
   "nbconvert_exporter": "python",
   "pygments_lexer": "ipython3",
   "version": "3.6.0"
  }
 },
 "nbformat": 4,
 "nbformat_minor": 2
}
