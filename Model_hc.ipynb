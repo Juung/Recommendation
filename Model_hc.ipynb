{
 "cells": [
  {
   "cell_type": "code",
   "execution_count": 1,
   "metadata": {
    "collapsed": true
   },
   "outputs": [],
   "source": [
    "import numpy as np\n",
    "import os\n",
    "import pickle\n",
    "import re\n",
    "import random\n",
    "\n",
    "import tensorflow as tf\n",
    "from tensorflow.contrib import rnn\n",
    "import tensorflow.contrib.slim as slim\n",
    "from tqdm import tqdm"
   ]
  },
  {
   "cell_type": "markdown",
   "metadata": {},
   "source": [
    "# model.py"
   ]
  },
  {
   "cell_type": "code",
   "execution_count": 2,
   "metadata": {
    "collapsed": true
   },
   "outputs": [],
   "source": [
    "tf.reset_default_graph()\n",
    "graph = tf.Graph()"
   ]
  },
  {
   "cell_type": "code",
   "execution_count": 3,
   "metadata": {
    "collapsed": true
   },
   "outputs": [],
   "source": [
    "with open('asin_dict.pkl', 'rb') as f:\n",
    "    asin_dict = pickle.load(f)"
   ]
  },
  {
   "cell_type": "code",
   "execution_count": 4,
   "metadata": {
    "collapsed": true
   },
   "outputs": [],
   "source": [
    "time_window = 10\n",
    "max_len_review = 288\n",
    "char_mtx_row = 1000\n",
    "_len_alphabet = 70\n",
    "_meta_dim = 85\n",
    "item_dim = len(asin_dict[list(asin_dict.keys())[0]])\n",
    "batch_size = 5"
   ]
  },
  {
   "cell_type": "code",
   "execution_count": 5,
   "metadata": {
    "collapsed": true
   },
   "outputs": [],
   "source": [
    "char_mtx = tf.placeholder(dtype=tf.float32, shape=[None, time_window, max_len_review, char_mtx_row, _len_alphabet])\n",
    "img_mtx = tf.placeholder(dtype=tf.float32, shape=[None, time_window, 32,32,3]) # input image shape: 32x32\n",
    "meta = tf.placeholder(dtype=tf.float32, shape=[None, time_window, _meta_dim])\n",
    "y = tf.placeholder(dtype=tf.float32, shape=[None, item_dim])"
   ]
  },
  {
   "cell_type": "code",
   "execution_count": 6,
   "metadata": {
    "collapsed": true
   },
   "outputs": [],
   "source": [
    "def review_CNN(char_mtx, filter_sizes = [2, 3, 7, 11], filter_nums = [100, 100, 100, 100], stride=[1,1,1,1],\n",
    "               mlp_units=[200,50], reuse=False, is_training=True):\n",
    "    char_mtx = tf.reshape(char_mtx, [-1, 288, 1000, 70])\n",
    "    ## CNN for review aspect, sentiment extraction\n",
    "    with tf.variable_scope('review-charCNN', reuse=reuse):\n",
    "        input_ = tf.reshape(char_mtx, shape=[-1, char_mtx_row, _len_alphabet])\n",
    "        input_ = tf.expand_dims(input_, axis=3)\n",
    "        with tf.name_scope('conv-filter-1'):\n",
    "            filter_shape1 = [filter_sizes[0], _len_alphabet, 1, filter_nums[0]]\n",
    "            W1 = tf.Variable(tf.truncated_normal(shape=filter_shape1), name='filter-1')\n",
    "            b1 = tf.Variable(tf.random_uniform(shape=[filter_nums[0]]), name='bias-1')\n",
    "            conv1 = tf.nn.conv2d(input_, W1, strides=stride, padding='VALID', name='conv-1')\n",
    "            out1 = tf.nn.relu(tf.nn.bias_add(conv1, b1))\n",
    "            max1 = tf.reduce_max(out1, axis=1) # batch_size, 1, 100\n",
    "        with tf.name_scope('conv-filter-2'):\n",
    "            filter_shape2= [filter_sizes[1], _len_alphabet, 1, filter_nums[1]]\n",
    "            W2 = tf.Variable(tf.truncated_normal(shape=filter_shape2), name='filter-2')\n",
    "            b2 = tf.Variable(tf.random_uniform(shape=[filter_nums[1]]), name='bias-2')\n",
    "            conv2 = tf.nn.conv2d(input_, W2, strides=stride, padding='VALID', name='conv-2')\n",
    "            out2 = tf.nn.relu(tf.nn.bias_add(conv2, b2))\n",
    "            max2 = tf.reduce_max(out2, axis=1) # batch_size, 1, 100\n",
    "        with tf.name_scope('conv-filter-3'):\n",
    "            filter_shape3 = [filter_sizes[2], _len_alphabet, 1, filter_nums[2]]\n",
    "            W3 = tf.Variable(tf.truncated_normal(shape=filter_shape3), name='filter-3')\n",
    "            b3 = tf.Variable(tf.random_uniform(shape=[filter_nums[2]]), name='bias-3')\n",
    "            conv3 = tf.nn.conv2d(input_, W3, strides=stride, padding='VALID', name='conv-3')\n",
    "            out3 = tf.nn.relu(tf.nn.bias_add(conv3, b3))\n",
    "            max3 = tf.reduce_max(out3, axis=1) # batch_size, 1, 100\n",
    "        with tf.name_scope('conv-filter-4'):\n",
    "            filter_shape4= [filter_sizes[3], _len_alphabet, 1, filter_nums[3]]\n",
    "            W4 = tf.Variable(tf.truncated_normal(shape=filter_shape4), name='filter-4')\n",
    "            b4 = tf.Variable(tf.random_uniform(shape=[filter_nums[3]]), name='bias-4')\n",
    "            conv4 = tf.nn.conv2d(input_, W4, strides=stride, padding='VALID', name='conv-4')\n",
    "            out4 = tf.nn.relu(tf.nn.bias_add(conv4, b4))\n",
    "            max4 = tf.reduce_max(out4, axis=1) # batch_size, 1, 100\n",
    "        ## concat\n",
    "        max_concat = tf.squeeze(tf.concat([max1, max2, max3, max4], axis=2), axis=1) # batch_size, 400\n",
    "    ## MLP for feature reduction\n",
    "    with tf.variable_scope('review-MLP', reuse=reuse):\n",
    "        fc1 = slim.fully_connected(max_concat, mlp_units[0])\n",
    "        fc2 = slim.fully_connected(fc1, mlp_units[1])\n",
    "    result = tf.reshape(fc2, shape=[-1, max_len_review, mlp_units[1]])\n",
    "    return tf.reduce_sum(result, axis=1)"
   ]
  },
  {
   "cell_type": "code",
   "execution_count": 7,
   "metadata": {
    "collapsed": true
   },
   "outputs": [],
   "source": [
    "def image_CNN(img_mtx, mlp_units=[200,50], reuse=False, is_training=True):\n",
    "    img_mtx = tf.reshape(img_mtx, [-1, 32, 32, 3])\n",
    "    with tf.variable_scope('image-CNN', reuse=reuse):\n",
    "        with slim.arg_scope([slim.conv2d], padding='SAME', activation_fn=None, \n",
    "                    stride = 2, weights_initializer=tf.contrib.layers.xavier_initializer()):\n",
    "            with slim.arg_scope([slim.batch_norm], decay=0.95, center=True, scale=True,\n",
    "                            updates_collections = None, activation_fn=tf.nn.relu,\n",
    "                            is_training =is_training):\n",
    "                conv1 = slim.conv2d(img_mtx, 6, [3,3], scope='conv-1')\n",
    "                bn1 = slim.batch_norm(conv1, scope='bn-1')\n",
    "                conv2 = slim.conv2d(bn1, 12, [3,3], scope='conv-2')\n",
    "                bn2 = slim.batch_norm(conv2, scope='bn-2')\n",
    "        with tf.variable_scope('MLP', reuse=reuse):\n",
    "            fc1 = slim.fully_connected(slim.flatten(bn2), mlp_units[0])\n",
    "            fc2 = slim.fully_connected(fc1, mlp_units[1])\n",
    "    return fc2"
   ]
  },
  {
   "cell_type": "code",
   "execution_count": 8,
   "metadata": {
    "collapsed": true
   },
   "outputs": [],
   "source": [
    "def userLSTM(lstm_input, hidden=128, reuse=False):\n",
    "    cell = rnn.BasicLSTMCell(hidden, reuse=reuse)\n",
    "    input_ = tf.unstack(lstm_input, axis=1)    \n",
    "    outputs, _ = rnn.static_rnn(cell, input_, dtype=tf.float32, scope='juungLSTM')\n",
    "    return outputs[-1]"
   ]
  },
  {
   "cell_type": "code",
   "execution_count": 9,
   "metadata": {
    "collapsed": true
   },
   "outputs": [],
   "source": [
    "def fc_pred(lstm_result, reuse=False):\n",
    "    fc1 = slim.fully_connected(lstm_result, 1024, scope='fc-1')\n",
    "    fc2 = slim.fully_connected(fc1, item_dim, scope='fc-2')\n",
    "    return fc2"
   ]
  },
  {
   "cell_type": "code",
   "execution_count": 10,
   "metadata": {
    "collapsed": true
   },
   "outputs": [],
   "source": [
    "def juung(char_mtx, img_mtx, meta, hidden=128, reuse=False):\n",
    "    review_result = review_CNN(char_mtx, reuse=False)\n",
    "    print(review_result)\n",
    "    img_result = image_CNN(img_mtx)\n",
    "    print(img_result)\n",
    "    print(meta)\n",
    "    meta = tf.reshape(meta, [-1, 85])\n",
    "    concat_result = tf.concat([review_result, img_result, meta], axis=1)\n",
    "    print(concat_result)\n",
    "    lstm_input = tf.reshape(concat_result, shape=[-1, time_window, 185]) # 185 = 50+50+meta_dim\n",
    "    lstm_result = userLSTM(lstm_input, hidden=hidden)\n",
    "    pred = fc_pred(lstm_result)\n",
    "    return pred"
   ]
  },
  {
   "cell_type": "code",
   "execution_count": 11,
   "metadata": {},
   "outputs": [
    {
     "name": "stdout",
     "output_type": "stream",
     "text": [
      "Tensor(\"Sum:0\", shape=(?, 50), dtype=float32)\n",
      "Tensor(\"image-CNN/MLP/fully_connected_1/Relu:0\", shape=(?, 50), dtype=float32)\n",
      "Tensor(\"Placeholder_2:0\", shape=(?, 10, 85), dtype=float32)\n",
      "Tensor(\"concat:0\", shape=(?, 185), dtype=float32)\n"
     ]
    }
   ],
   "source": [
    "pred = juung(char_mtx, img_mtx, meta)\n",
    "loss = tf.reduce_mean(tf.nn.softmax_cross_entropy_with_logits(labels=y, logits=pred))\n",
    "y_idx = tf.cast(tf.argmax(y, axis=1), dtype=tf.int32)\n",
    "top_k = tf.reduce_mean(tf.cast(tf.nn.in_top_k(pred, y_idx, k=10, name='top-k'), dtype=tf.float32))"
   ]
  },
  {
   "cell_type": "markdown",
   "metadata": {
    "collapsed": true
   },
   "source": []
  },
  {
   "cell_type": "markdown",
   "metadata": {},
   "source": [
    "# Solver.py"
   ]
  },
  {
   "cell_type": "markdown",
   "metadata": {},
   "source": [
    "https://github.com/yunjey/domain-transfer-network/blob/master/solver.py  \n",
    "\n",
    "class solver():\n",
    "- init\n",
    "- load_data\n",
    "- batch_iter\n",
    "- train\n",
    "- eval(test)"
   ]
  },
  {
   "cell_type": "code",
   "execution_count": 12,
   "metadata": {
    "collapsed": true
   },
   "outputs": [],
   "source": [
    "def __init__():\n",
    "    data_path = 'data'\n",
    "    batch_size = 5\n",
    "    train_iter = 10\n",
    "    log_dir = 'logs/'\n",
    "    model_save = 'model/'"
   ]
  },
  {
   "cell_type": "code",
   "execution_count": 13,
   "metadata": {
    "collapsed": true
   },
   "outputs": [],
   "source": [
    "def sent_to_mtx(sentence, row_size=1000):\n",
    "    \"\"\"\n",
    "    sentence to character-level matrix\n",
    "    \"\"\"\n",
    "    alphabet = \"abcdefghijklmnopqrstuvwxyz0123456789-,;.!?:'\\\"/\\\\|_@#$%^&*~`+-=<>()[]{}\\n\"\n",
    "    sentence = sentence.lower()\n",
    "    if len(sentence) > row_size:\n",
    "        sentence = sentence[:row_size]\n",
    "    char_mtx = np.zeros([row_size, len(alphabet)], dtype=np.float32)\n",
    "    for i, char in enumerate(sentence):\n",
    "        if char in alphabet:\n",
    "            char_mtx[i, alphabet.index(char)] = 1\n",
    "    return char_mtx"
   ]
  },
  {
   "cell_type": "code",
   "execution_count": 14,
   "metadata": {
    "collapsed": true
   },
   "outputs": [],
   "source": [
    "def review_to_mtx(review):\n",
    "    mtx = []\n",
    "    for sent in review:\n",
    "        mtx.append(sent_to_mtx(sent))\n",
    "    return np.array(mtx)"
   ]
  },
  {
   "cell_type": "code",
   "execution_count": 15,
   "metadata": {
    "collapsed": true
   },
   "outputs": [],
   "source": [
    "def read_data(mode):\n",
    "    '''\n",
    "    mode is 'train', 'val' or 'test'\n",
    "    '''\n",
    "    file_list = [x for x in os.listdir('data') if mode in x]\n",
    "    file_name = random.sample(file_list, k=1)\n",
    "    print(\"Opening... {}\".format(file_name[0]))\n",
    "    with open('data/'+file_name[0], 'rb') as f:\n",
    "        data = pickle.load(f)\n",
    "    print(\"Done!\")\n",
    "    return data"
   ]
  },
  {
   "cell_type": "code",
   "execution_count": 16,
   "metadata": {},
   "outputs": [],
   "source": [
    "def batch_iter(data, asin_dict, batch_size, num_epochs = 2, shuffle = True):\n",
    "    # data[0]: 1000 length list, each list is array of shape (10, 32, 32, 3)\n",
    "    img = np.array(data[0]) # shape: (1000, 10, 32, 32, 3)\n",
    "    review = np.array(data[1]) # shape : (1000, 10, 288)\n",
    "    meta = np.array(data[2]) # shaep : (1000, 10, 85)\n",
    "    asin = np.array(data[3]) # shape : (1000, 1)\n",
    "    data_size = len(data[0])\n",
    "#     print(img.shape, review.shape, meta.shape, asin.shape)\n",
    "    num_batches_per_epoch = int(data_size / batch_size) + 1\n",
    "    \n",
    "    for epoch in range(num_epochs):\n",
    "        if shuffle:\n",
    "            shuffle_indices = np.random.permutation(np.arange(data_size))\n",
    "            img_ , review_, meta_, asin_ = img[shuffle_indices], review[shuffle_indices], meta[shuffle_indices], asin[shuffle_indices]\n",
    "        else:\n",
    "            img_ , review_, meta_, asin_ = img, review, meta, asin\n",
    "        \n",
    "        for batch_num in range(num_batches_per_epoch):\n",
    "            start_index = batch_num * batch_size\n",
    "            end_index = (batch_num + 1) * batch_size\n",
    "            if end_index < data_size:\n",
    "                img_batch = np.reshape(img_[start_index:end_index], [-1,10,32,32,3]) # (batch_size*10, 32,32,3)\n",
    "                meta_batch = np.reshape(meta_[start_index:end_index], [-1,10,85])\n",
    "                \n",
    "                review_batch = np.reshape(review_[start_index:end_index], [-1, 288])\n",
    "                review_batch_transform = []\n",
    "                for index in range(review_batch.shape[0]):\n",
    "                    review_batch_transform.append(review_to_mtx(review_batch[index]))\n",
    "                review_batch_transform = np.reshape(np.array(review_batch_transform), [-1,10,288,1000,70])\n",
    "                \n",
    "                asin_batch = asin_[start_index:end_index]\n",
    "                asin_batch_encode = []\n",
    "                for index in range(asin_batch.shape[0]):\n",
    "                    asin_batch_encode.append(asin_dict[asin_batch[index][0]])\n",
    "                asin_batch_encode = np.array(asin_batch_encode)\n",
    "#                 print(img_batch.shape, review_batch_transform.shape, meta_batch.shape, asin_batch_encode.shape)\n",
    "#                 yield (img_batch, review_batch_transform, meta_batch, asin_batch_encode)\n",
    "                yield list(zip(img_batch, review_batch_transform, meta_batch, asin_batch_encode))            \n",
    "#     randix = np.random.randint(len(data[0]), size = batch_size)\n",
    "#     batch_img = np.reshape(np.array(data[0])[randix], [-1, 32, 32, 3])\n",
    "#     batch_meta = np.reshape(np.array(data[2])[randix], [-1, 85])\n",
    "    \n",
    "#     batch_review = np.reshape(np.array(data[1])[randix], [-1,288])\n",
    "#     batch_review_transform = []\n",
    "#     for index in range(batch_review.shape[0]):\n",
    "#         batch_review_transform.append(review_to_mtx(batch_review[index]))\n",
    "#     batch_review_transform = np.array(batch_review_transform)\n",
    "    \n",
    "#     batch_asin = np.array(data[3])[randix]\n",
    "#     batch_asin_encode = []\n",
    "#     for index in range(batch_asin.shape[0]):\n",
    "#         batch_asin_encode.append(asin_dict[batch_asin[index][0]])\n",
    "#     batch_asin_encode = np.array(batch_asin_encode)\n",
    "    \n",
    "#     return batch_img, batch_review_transform, batch_meta, batch_asin_encode"
   ]
  },
  {
   "cell_type": "code",
   "execution_count": 17,
   "metadata": {},
   "outputs": [
    {
     "name": "stdout",
     "output_type": "stream",
     "text": [
      "Opening... train_0.pkl\n",
      "Done!\n"
     ]
    }
   ],
   "source": [
    "train_data = read_data('train')"
   ]
  },
  {
   "cell_type": "code",
   "execution_count": 18,
   "metadata": {
    "collapsed": true
   },
   "outputs": [],
   "source": [
    "learning_rate = 2e-4"
   ]
  },
  {
   "cell_type": "code",
   "execution_count": 19,
   "metadata": {},
   "outputs": [
    {
     "ename": "ResourceExhaustedError",
     "evalue": "OOM when allocating tensor with shape[14400,100,999,1]\n\t [[Node: review-charCNN/conv-filter-1/conv-1 = Conv2D[T=DT_FLOAT, data_format=\"NHWC\", padding=\"VALID\", strides=[1, 1, 1, 1], use_cudnn_on_gpu=true, _device=\"/job:localhost/replica:0/task:0/gpu:0\"](review-charCNN/ExpandDims, review-charCNN/conv-filter-1/filter-1/read)]]\n\t [[Node: Adam/update/_68 = _Recv[client_terminated=false, recv_device=\"/job:localhost/replica:0/task:0/cpu:0\", send_device=\"/job:localhost/replica:0/task:0/gpu:0\", send_device_incarnation=1, tensor_name=\"edge_3488_Adam/update\", tensor_type=DT_FLOAT, _device=\"/job:localhost/replica:0/task:0/cpu:0\"]()]]\n\nCaused by op 'review-charCNN/conv-filter-1/conv-1', defined at:\n  File \"/usr/lib/python3.5/runpy.py\", line 184, in _run_module_as_main\n    \"__main__\", mod_spec)\n  File \"/usr/lib/python3.5/runpy.py\", line 85, in _run_code\n    exec(code, run_globals)\n  File \"/home/ubuntu/.local/lib/python3.5/site-packages/ipykernel_launcher.py\", line 16, in <module>\n    app.launch_new_instance()\n  File \"/home/ubuntu/.local/lib/python3.5/site-packages/traitlets/config/application.py\", line 658, in launch_instance\n    app.start()\n  File \"/home/ubuntu/.local/lib/python3.5/site-packages/ipykernel/kernelapp.py\", line 477, in start\n    ioloop.IOLoop.instance().start()\n  File \"/home/ubuntu/.local/lib/python3.5/site-packages/zmq/eventloop/ioloop.py\", line 177, in start\n    super(ZMQIOLoop, self).start()\n  File \"/home/ubuntu/.local/lib/python3.5/site-packages/tornado/ioloop.py\", line 888, in start\n    handler_func(fd_obj, events)\n  File \"/home/ubuntu/.local/lib/python3.5/site-packages/tornado/stack_context.py\", line 277, in null_wrapper\n    return fn(*args, **kwargs)\n  File \"/home/ubuntu/.local/lib/python3.5/site-packages/zmq/eventloop/zmqstream.py\", line 440, in _handle_events\n    self._handle_recv()\n  File \"/home/ubuntu/.local/lib/python3.5/site-packages/zmq/eventloop/zmqstream.py\", line 472, in _handle_recv\n    self._run_callback(callback, msg)\n  File \"/home/ubuntu/.local/lib/python3.5/site-packages/zmq/eventloop/zmqstream.py\", line 414, in _run_callback\n    callback(*args, **kwargs)\n  File \"/home/ubuntu/.local/lib/python3.5/site-packages/tornado/stack_context.py\", line 277, in null_wrapper\n    return fn(*args, **kwargs)\n  File \"/home/ubuntu/.local/lib/python3.5/site-packages/ipykernel/kernelbase.py\", line 283, in dispatcher\n    return self.dispatch_shell(stream, msg)\n  File \"/home/ubuntu/.local/lib/python3.5/site-packages/ipykernel/kernelbase.py\", line 235, in dispatch_shell\n    handler(stream, idents, msg)\n  File \"/home/ubuntu/.local/lib/python3.5/site-packages/ipykernel/kernelbase.py\", line 399, in execute_request\n    user_expressions, allow_stdin)\n  File \"/home/ubuntu/.local/lib/python3.5/site-packages/ipykernel/ipkernel.py\", line 196, in do_execute\n    res = shell.run_cell(code, store_history=store_history, silent=silent)\n  File \"/home/ubuntu/.local/lib/python3.5/site-packages/ipykernel/zmqshell.py\", line 533, in run_cell\n    return super(ZMQInteractiveShell, self).run_cell(*args, **kwargs)\n  File \"/home/ubuntu/.local/lib/python3.5/site-packages/IPython/core/interactiveshell.py\", line 2698, in run_cell\n    interactivity=interactivity, compiler=compiler, result=result)\n  File \"/home/ubuntu/.local/lib/python3.5/site-packages/IPython/core/interactiveshell.py\", line 2802, in run_ast_nodes\n    if self.run_code(code, result):\n  File \"/home/ubuntu/.local/lib/python3.5/site-packages/IPython/core/interactiveshell.py\", line 2862, in run_code\n    exec(code_obj, self.user_global_ns, self.user_ns)\n  File \"<ipython-input-11-ebb3bca94e35>\", line 1, in <module>\n    pred = juung(char_mtx, img_mtx, meta)\n  File \"<ipython-input-10-c0764aaba224>\", line 2, in juung\n    review_result = review_CNN(char_mtx, reuse=False)\n  File \"<ipython-input-6-f09e5153c4fd>\", line 12, in review_CNN\n    conv1 = tf.nn.conv2d(input_, W1, strides=stride, padding='VALID', name='conv-1')\n  File \"/home/ubuntu/.local/lib/python3.5/site-packages/tensorflow/python/ops/gen_nn_ops.py\", line 399, in conv2d\n    data_format=data_format, name=name)\n  File \"/home/ubuntu/.local/lib/python3.5/site-packages/tensorflow/python/framework/op_def_library.py\", line 767, in apply_op\n    op_def=op_def)\n  File \"/home/ubuntu/.local/lib/python3.5/site-packages/tensorflow/python/framework/ops.py\", line 2506, in create_op\n    original_op=self._default_original_op, op_def=op_def)\n  File \"/home/ubuntu/.local/lib/python3.5/site-packages/tensorflow/python/framework/ops.py\", line 1269, in __init__\n    self._traceback = _extract_stack()\n\nResourceExhaustedError (see above for traceback): OOM when allocating tensor with shape[14400,100,999,1]\n\t [[Node: review-charCNN/conv-filter-1/conv-1 = Conv2D[T=DT_FLOAT, data_format=\"NHWC\", padding=\"VALID\", strides=[1, 1, 1, 1], use_cudnn_on_gpu=true, _device=\"/job:localhost/replica:0/task:0/gpu:0\"](review-charCNN/ExpandDims, review-charCNN/conv-filter-1/filter-1/read)]]\n\t [[Node: Adam/update/_68 = _Recv[client_terminated=false, recv_device=\"/job:localhost/replica:0/task:0/cpu:0\", send_device=\"/job:localhost/replica:0/task:0/gpu:0\", send_device_incarnation=1, tensor_name=\"edge_3488_Adam/update\", tensor_type=DT_FLOAT, _device=\"/job:localhost/replica:0/task:0/cpu:0\"]()]]\n",
     "output_type": "error",
     "traceback": [
      "\u001b[0;31m---------------------------------------------------------------------------\u001b[0m",
      "\u001b[0;31mResourceExhaustedError\u001b[0m                    Traceback (most recent call last)",
      "\u001b[0;32m~/.local/lib/python3.5/site-packages/tensorflow/python/client/session.py\u001b[0m in \u001b[0;36m_do_call\u001b[0;34m(self, fn, *args)\u001b[0m\n\u001b[1;32m   1138\u001b[0m     \u001b[0;32mtry\u001b[0m\u001b[0;34m:\u001b[0m\u001b[0;34m\u001b[0m\u001b[0m\n\u001b[0;32m-> 1139\u001b[0;31m       \u001b[0;32mreturn\u001b[0m \u001b[0mfn\u001b[0m\u001b[0;34m(\u001b[0m\u001b[0;34m*\u001b[0m\u001b[0margs\u001b[0m\u001b[0;34m)\u001b[0m\u001b[0;34m\u001b[0m\u001b[0m\n\u001b[0m\u001b[1;32m   1140\u001b[0m     \u001b[0;32mexcept\u001b[0m \u001b[0merrors\u001b[0m\u001b[0;34m.\u001b[0m\u001b[0mOpError\u001b[0m \u001b[0;32mas\u001b[0m \u001b[0me\u001b[0m\u001b[0;34m:\u001b[0m\u001b[0;34m\u001b[0m\u001b[0m\n",
      "\u001b[0;32m~/.local/lib/python3.5/site-packages/tensorflow/python/client/session.py\u001b[0m in \u001b[0;36m_run_fn\u001b[0;34m(session, feed_dict, fetch_list, target_list, options, run_metadata)\u001b[0m\n\u001b[1;32m   1120\u001b[0m                                  \u001b[0mfeed_dict\u001b[0m\u001b[0;34m,\u001b[0m \u001b[0mfetch_list\u001b[0m\u001b[0;34m,\u001b[0m \u001b[0mtarget_list\u001b[0m\u001b[0;34m,\u001b[0m\u001b[0;34m\u001b[0m\u001b[0m\n\u001b[0;32m-> 1121\u001b[0;31m                                  status, run_metadata)\n\u001b[0m\u001b[1;32m   1122\u001b[0m \u001b[0;34m\u001b[0m\u001b[0m\n",
      "\u001b[0;32m/usr/lib/python3.5/contextlib.py\u001b[0m in \u001b[0;36m__exit__\u001b[0;34m(self, type, value, traceback)\u001b[0m\n\u001b[1;32m     65\u001b[0m             \u001b[0;32mtry\u001b[0m\u001b[0;34m:\u001b[0m\u001b[0;34m\u001b[0m\u001b[0m\n\u001b[0;32m---> 66\u001b[0;31m                 \u001b[0mnext\u001b[0m\u001b[0;34m(\u001b[0m\u001b[0mself\u001b[0m\u001b[0;34m.\u001b[0m\u001b[0mgen\u001b[0m\u001b[0;34m)\u001b[0m\u001b[0;34m\u001b[0m\u001b[0m\n\u001b[0m\u001b[1;32m     67\u001b[0m             \u001b[0;32mexcept\u001b[0m \u001b[0mStopIteration\u001b[0m\u001b[0;34m:\u001b[0m\u001b[0;34m\u001b[0m\u001b[0m\n",
      "\u001b[0;32m~/.local/lib/python3.5/site-packages/tensorflow/python/framework/errors_impl.py\u001b[0m in \u001b[0;36mraise_exception_on_not_ok_status\u001b[0;34m()\u001b[0m\n\u001b[1;32m    465\u001b[0m           \u001b[0mcompat\u001b[0m\u001b[0;34m.\u001b[0m\u001b[0mas_text\u001b[0m\u001b[0;34m(\u001b[0m\u001b[0mpywrap_tensorflow\u001b[0m\u001b[0;34m.\u001b[0m\u001b[0mTF_Message\u001b[0m\u001b[0;34m(\u001b[0m\u001b[0mstatus\u001b[0m\u001b[0;34m)\u001b[0m\u001b[0;34m)\u001b[0m\u001b[0;34m,\u001b[0m\u001b[0;34m\u001b[0m\u001b[0m\n\u001b[0;32m--> 466\u001b[0;31m           pywrap_tensorflow.TF_GetCode(status))\n\u001b[0m\u001b[1;32m    467\u001b[0m   \u001b[0;32mfinally\u001b[0m\u001b[0;34m:\u001b[0m\u001b[0;34m\u001b[0m\u001b[0m\n",
      "\u001b[0;31mResourceExhaustedError\u001b[0m: OOM when allocating tensor with shape[14400,100,999,1]\n\t [[Node: review-charCNN/conv-filter-1/conv-1 = Conv2D[T=DT_FLOAT, data_format=\"NHWC\", padding=\"VALID\", strides=[1, 1, 1, 1], use_cudnn_on_gpu=true, _device=\"/job:localhost/replica:0/task:0/gpu:0\"](review-charCNN/ExpandDims, review-charCNN/conv-filter-1/filter-1/read)]]\n\t [[Node: Adam/update/_68 = _Recv[client_terminated=false, recv_device=\"/job:localhost/replica:0/task:0/cpu:0\", send_device=\"/job:localhost/replica:0/task:0/gpu:0\", send_device_incarnation=1, tensor_name=\"edge_3488_Adam/update\", tensor_type=DT_FLOAT, _device=\"/job:localhost/replica:0/task:0/cpu:0\"]()]]",
      "\nDuring handling of the above exception, another exception occurred:\n",
      "\u001b[0;31mResourceExhaustedError\u001b[0m                    Traceback (most recent call last)",
      "\u001b[0;32m<ipython-input-19-6fe5149fd759>\u001b[0m in \u001b[0;36m<module>\u001b[0;34m()\u001b[0m\n\u001b[1;32m     13\u001b[0m         \u001b[0mfeed_dict\u001b[0m \u001b[0;34m=\u001b[0m \u001b[0;34m{\u001b[0m\u001b[0mchar_mtx\u001b[0m \u001b[0;34m:\u001b[0m \u001b[0mreview_batch\u001b[0m\u001b[0;34m,\u001b[0m \u001b[0mimg_mtx\u001b[0m \u001b[0;34m:\u001b[0m \u001b[0mimg_batch\u001b[0m\u001b[0;34m,\u001b[0m \u001b[0mmeta\u001b[0m\u001b[0;34m:\u001b[0m \u001b[0mmeta_batch\u001b[0m\u001b[0;34m,\u001b[0m \u001b[0my\u001b[0m \u001b[0;34m:\u001b[0m \u001b[0masin_batch\u001b[0m\u001b[0;34m}\u001b[0m\u001b[0;34m\u001b[0m\u001b[0m\n\u001b[1;32m     14\u001b[0m         \u001b[0mcurrent_step\u001b[0m \u001b[0;34m=\u001b[0m \u001b[0msess\u001b[0m\u001b[0;34m.\u001b[0m\u001b[0mrun\u001b[0m\u001b[0;34m(\u001b[0m\u001b[0mglobal_step\u001b[0m\u001b[0;34m,\u001b[0m \u001b[0mfeed_dict\u001b[0m \u001b[0;34m=\u001b[0m \u001b[0mfeed_dict\u001b[0m\u001b[0;34m)\u001b[0m\u001b[0;34m\u001b[0m\u001b[0m\n\u001b[0;32m---> 15\u001b[0;31m         \u001b[0msess\u001b[0m\u001b[0;34m.\u001b[0m\u001b[0mrun\u001b[0m\u001b[0;34m(\u001b[0m\u001b[0mopt\u001b[0m\u001b[0;34m,\u001b[0m \u001b[0mfeed_dict\u001b[0m\u001b[0;34m=\u001b[0m\u001b[0mfeed_dict\u001b[0m\u001b[0;34m)\u001b[0m\u001b[0;34m\u001b[0m\u001b[0m\n\u001b[0m\u001b[1;32m     16\u001b[0m         \u001b[0;32mif\u001b[0m \u001b[0mcurrent_step\u001b[0m \u001b[0;34m%\u001b[0m \u001b[0;36m10\u001b[0m \u001b[0;34m==\u001b[0m \u001b[0;36m0\u001b[0m\u001b[0;34m:\u001b[0m\u001b[0;34m\u001b[0m\u001b[0m\n\u001b[1;32m     17\u001b[0m             \u001b[0mprint\u001b[0m\u001b[0;34m(\u001b[0m\u001b[0;34m\"step: {}\"\u001b[0m\u001b[0;34m.\u001b[0m\u001b[0mformat\u001b[0m\u001b[0;34m(\u001b[0m\u001b[0mcurrent_step\u001b[0m\u001b[0;34m)\u001b[0m\u001b[0;34m)\u001b[0m\u001b[0;34m\u001b[0m\u001b[0m\n",
      "\u001b[0;32m~/.local/lib/python3.5/site-packages/tensorflow/python/client/session.py\u001b[0m in \u001b[0;36mrun\u001b[0;34m(self, fetches, feed_dict, options, run_metadata)\u001b[0m\n\u001b[1;32m    787\u001b[0m     \u001b[0;32mtry\u001b[0m\u001b[0;34m:\u001b[0m\u001b[0;34m\u001b[0m\u001b[0m\n\u001b[1;32m    788\u001b[0m       result = self._run(None, fetches, feed_dict, options_ptr,\n\u001b[0;32m--> 789\u001b[0;31m                          run_metadata_ptr)\n\u001b[0m\u001b[1;32m    790\u001b[0m       \u001b[0;32mif\u001b[0m \u001b[0mrun_metadata\u001b[0m\u001b[0;34m:\u001b[0m\u001b[0;34m\u001b[0m\u001b[0m\n\u001b[1;32m    791\u001b[0m         \u001b[0mproto_data\u001b[0m \u001b[0;34m=\u001b[0m \u001b[0mtf_session\u001b[0m\u001b[0;34m.\u001b[0m\u001b[0mTF_GetBuffer\u001b[0m\u001b[0;34m(\u001b[0m\u001b[0mrun_metadata_ptr\u001b[0m\u001b[0;34m)\u001b[0m\u001b[0;34m\u001b[0m\u001b[0m\n",
      "\u001b[0;32m~/.local/lib/python3.5/site-packages/tensorflow/python/client/session.py\u001b[0m in \u001b[0;36m_run\u001b[0;34m(self, handle, fetches, feed_dict, options, run_metadata)\u001b[0m\n\u001b[1;32m    995\u001b[0m     \u001b[0;32mif\u001b[0m \u001b[0mfinal_fetches\u001b[0m \u001b[0;32mor\u001b[0m \u001b[0mfinal_targets\u001b[0m\u001b[0;34m:\u001b[0m\u001b[0;34m\u001b[0m\u001b[0m\n\u001b[1;32m    996\u001b[0m       results = self._do_run(handle, final_targets, final_fetches,\n\u001b[0;32m--> 997\u001b[0;31m                              feed_dict_string, options, run_metadata)\n\u001b[0m\u001b[1;32m    998\u001b[0m     \u001b[0;32melse\u001b[0m\u001b[0;34m:\u001b[0m\u001b[0;34m\u001b[0m\u001b[0m\n\u001b[1;32m    999\u001b[0m       \u001b[0mresults\u001b[0m \u001b[0;34m=\u001b[0m \u001b[0;34m[\u001b[0m\u001b[0;34m]\u001b[0m\u001b[0;34m\u001b[0m\u001b[0m\n",
      "\u001b[0;32m~/.local/lib/python3.5/site-packages/tensorflow/python/client/session.py\u001b[0m in \u001b[0;36m_do_run\u001b[0;34m(self, handle, target_list, fetch_list, feed_dict, options, run_metadata)\u001b[0m\n\u001b[1;32m   1130\u001b[0m     \u001b[0;32mif\u001b[0m \u001b[0mhandle\u001b[0m \u001b[0;32mis\u001b[0m \u001b[0;32mNone\u001b[0m\u001b[0;34m:\u001b[0m\u001b[0;34m\u001b[0m\u001b[0m\n\u001b[1;32m   1131\u001b[0m       return self._do_call(_run_fn, self._session, feed_dict, fetch_list,\n\u001b[0;32m-> 1132\u001b[0;31m                            target_list, options, run_metadata)\n\u001b[0m\u001b[1;32m   1133\u001b[0m     \u001b[0;32melse\u001b[0m\u001b[0;34m:\u001b[0m\u001b[0;34m\u001b[0m\u001b[0m\n\u001b[1;32m   1134\u001b[0m       return self._do_call(_prun_fn, self._session, handle, feed_dict,\n",
      "\u001b[0;32m~/.local/lib/python3.5/site-packages/tensorflow/python/client/session.py\u001b[0m in \u001b[0;36m_do_call\u001b[0;34m(self, fn, *args)\u001b[0m\n\u001b[1;32m   1150\u001b[0m         \u001b[0;32mexcept\u001b[0m \u001b[0mKeyError\u001b[0m\u001b[0;34m:\u001b[0m\u001b[0;34m\u001b[0m\u001b[0m\n\u001b[1;32m   1151\u001b[0m           \u001b[0;32mpass\u001b[0m\u001b[0;34m\u001b[0m\u001b[0m\n\u001b[0;32m-> 1152\u001b[0;31m       \u001b[0;32mraise\u001b[0m \u001b[0mtype\u001b[0m\u001b[0;34m(\u001b[0m\u001b[0me\u001b[0m\u001b[0;34m)\u001b[0m\u001b[0;34m(\u001b[0m\u001b[0mnode_def\u001b[0m\u001b[0;34m,\u001b[0m \u001b[0mop\u001b[0m\u001b[0;34m,\u001b[0m \u001b[0mmessage\u001b[0m\u001b[0;34m)\u001b[0m\u001b[0;34m\u001b[0m\u001b[0m\n\u001b[0m\u001b[1;32m   1153\u001b[0m \u001b[0;34m\u001b[0m\u001b[0m\n\u001b[1;32m   1154\u001b[0m   \u001b[0;32mdef\u001b[0m \u001b[0m_extend_graph\u001b[0m\u001b[0;34m(\u001b[0m\u001b[0mself\u001b[0m\u001b[0;34m)\u001b[0m\u001b[0;34m:\u001b[0m\u001b[0;34m\u001b[0m\u001b[0m\n",
      "\u001b[0;31mResourceExhaustedError\u001b[0m: OOM when allocating tensor with shape[14400,100,999,1]\n\t [[Node: review-charCNN/conv-filter-1/conv-1 = Conv2D[T=DT_FLOAT, data_format=\"NHWC\", padding=\"VALID\", strides=[1, 1, 1, 1], use_cudnn_on_gpu=true, _device=\"/job:localhost/replica:0/task:0/gpu:0\"](review-charCNN/ExpandDims, review-charCNN/conv-filter-1/filter-1/read)]]\n\t [[Node: Adam/update/_68 = _Recv[client_terminated=false, recv_device=\"/job:localhost/replica:0/task:0/cpu:0\", send_device=\"/job:localhost/replica:0/task:0/gpu:0\", send_device_incarnation=1, tensor_name=\"edge_3488_Adam/update\", tensor_type=DT_FLOAT, _device=\"/job:localhost/replica:0/task:0/cpu:0\"]()]]\n\nCaused by op 'review-charCNN/conv-filter-1/conv-1', defined at:\n  File \"/usr/lib/python3.5/runpy.py\", line 184, in _run_module_as_main\n    \"__main__\", mod_spec)\n  File \"/usr/lib/python3.5/runpy.py\", line 85, in _run_code\n    exec(code, run_globals)\n  File \"/home/ubuntu/.local/lib/python3.5/site-packages/ipykernel_launcher.py\", line 16, in <module>\n    app.launch_new_instance()\n  File \"/home/ubuntu/.local/lib/python3.5/site-packages/traitlets/config/application.py\", line 658, in launch_instance\n    app.start()\n  File \"/home/ubuntu/.local/lib/python3.5/site-packages/ipykernel/kernelapp.py\", line 477, in start\n    ioloop.IOLoop.instance().start()\n  File \"/home/ubuntu/.local/lib/python3.5/site-packages/zmq/eventloop/ioloop.py\", line 177, in start\n    super(ZMQIOLoop, self).start()\n  File \"/home/ubuntu/.local/lib/python3.5/site-packages/tornado/ioloop.py\", line 888, in start\n    handler_func(fd_obj, events)\n  File \"/home/ubuntu/.local/lib/python3.5/site-packages/tornado/stack_context.py\", line 277, in null_wrapper\n    return fn(*args, **kwargs)\n  File \"/home/ubuntu/.local/lib/python3.5/site-packages/zmq/eventloop/zmqstream.py\", line 440, in _handle_events\n    self._handle_recv()\n  File \"/home/ubuntu/.local/lib/python3.5/site-packages/zmq/eventloop/zmqstream.py\", line 472, in _handle_recv\n    self._run_callback(callback, msg)\n  File \"/home/ubuntu/.local/lib/python3.5/site-packages/zmq/eventloop/zmqstream.py\", line 414, in _run_callback\n    callback(*args, **kwargs)\n  File \"/home/ubuntu/.local/lib/python3.5/site-packages/tornado/stack_context.py\", line 277, in null_wrapper\n    return fn(*args, **kwargs)\n  File \"/home/ubuntu/.local/lib/python3.5/site-packages/ipykernel/kernelbase.py\", line 283, in dispatcher\n    return self.dispatch_shell(stream, msg)\n  File \"/home/ubuntu/.local/lib/python3.5/site-packages/ipykernel/kernelbase.py\", line 235, in dispatch_shell\n    handler(stream, idents, msg)\n  File \"/home/ubuntu/.local/lib/python3.5/site-packages/ipykernel/kernelbase.py\", line 399, in execute_request\n    user_expressions, allow_stdin)\n  File \"/home/ubuntu/.local/lib/python3.5/site-packages/ipykernel/ipkernel.py\", line 196, in do_execute\n    res = shell.run_cell(code, store_history=store_history, silent=silent)\n  File \"/home/ubuntu/.local/lib/python3.5/site-packages/ipykernel/zmqshell.py\", line 533, in run_cell\n    return super(ZMQInteractiveShell, self).run_cell(*args, **kwargs)\n  File \"/home/ubuntu/.local/lib/python3.5/site-packages/IPython/core/interactiveshell.py\", line 2698, in run_cell\n    interactivity=interactivity, compiler=compiler, result=result)\n  File \"/home/ubuntu/.local/lib/python3.5/site-packages/IPython/core/interactiveshell.py\", line 2802, in run_ast_nodes\n    if self.run_code(code, result):\n  File \"/home/ubuntu/.local/lib/python3.5/site-packages/IPython/core/interactiveshell.py\", line 2862, in run_code\n    exec(code_obj, self.user_global_ns, self.user_ns)\n  File \"<ipython-input-11-ebb3bca94e35>\", line 1, in <module>\n    pred = juung(char_mtx, img_mtx, meta)\n  File \"<ipython-input-10-c0764aaba224>\", line 2, in juung\n    review_result = review_CNN(char_mtx, reuse=False)\n  File \"<ipython-input-6-f09e5153c4fd>\", line 12, in review_CNN\n    conv1 = tf.nn.conv2d(input_, W1, strides=stride, padding='VALID', name='conv-1')\n  File \"/home/ubuntu/.local/lib/python3.5/site-packages/tensorflow/python/ops/gen_nn_ops.py\", line 399, in conv2d\n    data_format=data_format, name=name)\n  File \"/home/ubuntu/.local/lib/python3.5/site-packages/tensorflow/python/framework/op_def_library.py\", line 767, in apply_op\n    op_def=op_def)\n  File \"/home/ubuntu/.local/lib/python3.5/site-packages/tensorflow/python/framework/ops.py\", line 2506, in create_op\n    original_op=self._default_original_op, op_def=op_def)\n  File \"/home/ubuntu/.local/lib/python3.5/site-packages/tensorflow/python/framework/ops.py\", line 1269, in __init__\n    self._traceback = _extract_stack()\n\nResourceExhaustedError (see above for traceback): OOM when allocating tensor with shape[14400,100,999,1]\n\t [[Node: review-charCNN/conv-filter-1/conv-1 = Conv2D[T=DT_FLOAT, data_format=\"NHWC\", padding=\"VALID\", strides=[1, 1, 1, 1], use_cudnn_on_gpu=true, _device=\"/job:localhost/replica:0/task:0/gpu:0\"](review-charCNN/ExpandDims, review-charCNN/conv-filter-1/filter-1/read)]]\n\t [[Node: Adam/update/_68 = _Recv[client_terminated=false, recv_device=\"/job:localhost/replica:0/task:0/cpu:0\", send_device=\"/job:localhost/replica:0/task:0/gpu:0\", send_device_incarnation=1, tensor_name=\"edge_3488_Adam/update\", tensor_type=DT_FLOAT, _device=\"/job:localhost/replica:0/task:0/cpu:0\"]()]]\n"
     ]
    }
   ],
   "source": [
    "# with graph.as_default():\n",
    "\n",
    "sess = tf.Session(config = tf.ConfigProto(log_device_placement = True))\n",
    "with sess.as_default():\n",
    "    global_step = tf.Variable(0, name='global_step', trainable=False)\n",
    "    opt = tf.train.AdamOptimizer(learning_rate).minimize(loss, global_step)\n",
    "    sess.run(tf.global_variables_initializer())\n",
    "    batch_train = batch_iter(train_data, asin_dict, batch_size=batch_size, num_epochs=2)\n",
    "    for train in batch_train:\n",
    "        img_batch, review_batch, meta_batch, asin_batch = zip(*train)\n",
    "#         print(img_batch[0].shape, review_batch[0].shape, asin_batch[0].shape)\n",
    "#         print(type(review_batch), len(review_batch), type(asin_batch), len(asin_batch))\n",
    "        feed_dict = {char_mtx : review_batch, img_mtx : img_batch, meta: meta_batch, y : asin_batch}\n",
    "        current_step = sess.run(global_step, feed_dict = feed_dict)\n",
    "        sess.run(opt, feed_dict=feed_dict)\n",
    "        if current_step % 10 == 0:\n",
    "            print(\"step: {}\".format(current_step))\n",
    "            print(\"====validation start====\")\n",
    "            batch_val = batch_iter(train_data, batch_size, 1, asin_dict)\n",
    "            top_ks = []\n",
    "            for val in batch_val:\n",
    "                img_val, review_val, meta_val, asin_val = zip(*train)\n",
    "                feed_dict = {char_mtx : review_val, img_mtx : img_val, meta: meta_val, y : asin_val}\n",
    "                top_k = sess.run(top_k, feed_dict = feed_dict)\n",
    "                top_ks.append(top_k)\n",
    "            print(\"Mean top_k = \" + str(sum(top_ks)/len(top_ks)))\n",
    "            print(\"===========training============\")\n",
    "        print(\"Training finished.\")  "
   ]
  },
  {
   "cell_type": "code",
   "execution_count": null,
   "metadata": {
    "collapsed": true
   },
   "outputs": [],
   "source": []
  },
  {
   "cell_type": "code",
   "execution_count": null,
   "metadata": {
    "collapsed": true
   },
   "outputs": [],
   "source": []
  },
  {
   "cell_type": "code",
   "execution_count": null,
   "metadata": {
    "collapsed": true
   },
   "outputs": [],
   "source": []
  },
  {
   "cell_type": "code",
   "execution_count": null,
   "metadata": {
    "collapsed": true
   },
   "outputs": [],
   "source": [
    "def train():\n",
    "    with open('asin_dict.pkl', 'rb') as f:\n",
    "        asin_dict = pickle.load(f)\n",
    "    train_data = read_data('train')\n",
    "#     model = self.model\n",
    "#     model.build()\n",
    "    \n",
    "#     if tf.gfile.Exists(self.log_dir):\n",
    "#         tf.gfile.DeleteRecursively(self.log_dir)\n",
    "#     tf.gfile.MakeDirs(self.log_dir)\n",
    "    \n",
    "    print(\"data load finished\")\n",
    "    print(type(loss))\n",
    "    with tf.Graph().as_default():\n",
    "        sess = tf.Session()\n",
    "        with sess.as_default():\n",
    "#             juung = Model()\n",
    "            \n",
    "            global_step = tf.Variable(0, name = 'global_step', trainable = False)\n",
    "            opt = tf.train.AdamOptimizer(0.0002)\n",
    "            optimizer = opt.minimize(loss, global_step = global_step)\n",
    "            print(\"training prepared!\")\n",
    "#             loss_train = tf.summary.scalar('loss_train', loss)\n",
    "#             top_k_train = tf.summary.scalar(\"top_k_train\", top_k)\n",
    "#             train_summary_ops = tf.summary.merge([loss_train, top_k_train])\n",
    "            \n",
    "#             loss_val = tf.summary.scalar('loss_val', loss)\n",
    "#             top_k_val = tf.summary.scalar(\"top_k_val\", top_k)\n",
    "#             val_summary_ops = tf.summary.merge([loss_val, top_k_val])\n",
    "            \n",
    "#             saver = tf.train.Saver(tf.global_variables(), max_to_keep = 4)\n",
    "#             sess.run(tf.global_variables_initializer())\n",
    "            \n",
    "#             summary_writer = tf.summary.FileWriter('logs', sess.graph)\n",
    "\n",
    "            batch_train = batch_iter(train_data, batch_size, 2, asin_dict)\n",
    "            for train in batch_train:\n",
    "                img_batch, review_batch, meta_batch, asin_batch = zip(*train)\n",
    "                feed_dict = {char_mtx : review_batch, img_mtx : img_batch, meta: meta_batch, y : asin_batch}\n",
    "                current_step = sess.run(global_step, feed_dict = feed_dict)\n",
    "                optimizer.run(feed_dict = feed_dict)\n",
    "                if current_step % 10 == 0:\n",
    "                    print(\"step: {}\".format(current_step))\n",
    "                    print(\"====validation start====\")\n",
    "                    batch_val = batch_iter(train_data, batch_size, 1, asin_dict)\n",
    "                    top_ks = []\n",
    "                    for val in batch_val:\n",
    "                        img_val, review_val, meta_val, asin_val = zip(*train)\n",
    "                        feed_dict = {char_mtx : review_val, img_mtx : img_val, meta: meta_val, y : asin_val}\n",
    "                        top_k = sess.run(top_k, feed_dict = feed_dict)\n",
    "                        top_ks.append(top_k)\n",
    "                    print(\"Mean top_k = \" + str(sum(top_ks)/len(top_ks)))\n",
    "                    print(\"===========training============\")\n",
    "        print(\"Training finished.\")            "
   ]
  },
  {
   "cell_type": "code",
   "execution_count": null,
   "metadata": {},
   "outputs": [],
   "source": [
    "train()"
   ]
  },
  {
   "cell_type": "code",
   "execution_count": null,
   "metadata": {},
   "outputs": [],
   "source": [
    "type(loss)"
   ]
  }
 ],
 "metadata": {
  "kernelspec": {
   "display_name": "Python 3",
   "language": "python",
   "name": "python3"
  },
  "language_info": {
   "codemirror_mode": {
    "name": "ipython",
    "version": 3
   },
   "file_extension": ".py",
   "mimetype": "text/x-python",
   "name": "python",
   "nbconvert_exporter": "python",
   "pygments_lexer": "ipython3",
   "version": "3.5.2"
  }
 },
 "nbformat": 4,
 "nbformat_minor": 2
}
