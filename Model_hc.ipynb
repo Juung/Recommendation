{
 "cells": [
  {
   "cell_type": "code",
   "execution_count": 1,
   "metadata": {
    "collapsed": true
   },
   "outputs": [],
   "source": [
    "import numpy as np\n",
    "import os\n",
    "import pickle\n",
    "import re\n",
    "import random\n",
    "\n",
    "import tensorflow as tf\n",
    "from tensorflow.contrib import rnn\n",
    "import tensorflow.contrib.slim as slim\n",
    "from tqdm import tqdm"
   ]
  },
  {
   "cell_type": "markdown",
   "metadata": {},
   "source": [
    "# model.py"
   ]
  },
  {
   "cell_type": "code",
   "execution_count": 12,
   "metadata": {
    "collapsed": true
   },
   "outputs": [],
   "source": [
    "tf.reset_default_graph()\n",
    "graph = tf.Graph()"
   ]
  },
  {
   "cell_type": "code",
   "execution_count": 13,
   "metadata": {
    "collapsed": true
   },
   "outputs": [],
   "source": [
    "time_window = 10\n",
    "max_len_review = 288\n",
    "char_mtx_row = 1000\n",
    "_len_alphabet = 70\n",
    "_meta_dim = 85\n",
    "item_dim = 23274\n",
    "batch_size = 5"
   ]
  },
  {
   "cell_type": "code",
   "execution_count": 14,
   "metadata": {
    "collapsed": true
   },
   "outputs": [],
   "source": [
    "char_mtx = tf.placeholder(dtype=tf.float32, shape=[None, max_len_review, char_mtx_row, _len_alphabet])\n",
    "img_mtx = tf.placeholder(dtype=tf.float32, shape=[None, 32,32,3]) # input image shape: 32x32\n",
    "meta = tf.placeholder(dtype=tf.float32, shape=[None, _meta_dim])\n",
    "y = tf.placeholder(dtype=tf.float32, shape=[None, item_dim])"
   ]
  },
  {
   "cell_type": "code",
   "execution_count": 15,
   "metadata": {
    "collapsed": true
   },
   "outputs": [],
   "source": [
    "def review_CNN(char_mtx, filter_sizes = [2, 3, 7, 11], filter_nums = [100, 100, 100, 100], stride=[1,1,1,1],\n",
    "               mlp_units=[200,50], reuse=False, is_training=True):\n",
    "    ## CNN for review aspect, sentiment extraction\n",
    "    with tf.variable_scope('review-charCNN', reuse=reuse):\n",
    "        input_ = tf.reshape(char_mtx, shape=[-1, char_mtx_row, _len_alphabet])\n",
    "        input_ = tf.expand_dims(input_, axis=3)\n",
    "        with tf.name_scope('conv-filter-1'):\n",
    "            filter_shape1 = [filter_sizes[0], _len_alphabet, 1, filter_nums[0]]\n",
    "            W1 = tf.Variable(tf.truncated_normal(shape=filter_shape1), name='filter-1')\n",
    "            b1 = tf.Variable(tf.random_uniform(shape=[filter_nums[0]]), name='bias-1')\n",
    "            conv1 = tf.nn.conv2d(input_, W1, strides=stride, padding='VALID', name='conv-1')\n",
    "            out1 = tf.nn.relu(tf.nn.bias_add(conv1, b1))\n",
    "            max1 = tf.reduce_max(out1, axis=1) # batch_size, 1, 100\n",
    "        with tf.name_scope('conv-filter-2'):\n",
    "            filter_shape2= [filter_sizes[1], _len_alphabet, 1, filter_nums[1]]\n",
    "            W2 = tf.Variable(tf.truncated_normal(shape=filter_shape2), name='filter-2')\n",
    "            b2 = tf.Variable(tf.random_uniform(shape=[filter_nums[1]]), name='bias-2')\n",
    "            conv2 = tf.nn.conv2d(input_, W2, strides=stride, padding='VALID', name='conv-2')\n",
    "            out2 = tf.nn.relu(tf.nn.bias_add(conv2, b2))\n",
    "            max2 = tf.reduce_max(out2, axis=1) # batch_size, 1, 100\n",
    "        with tf.name_scope('conv-filter-3'):\n",
    "            filter_shape3 = [filter_sizes[2], _len_alphabet, 1, filter_nums[2]]\n",
    "            W3 = tf.Variable(tf.truncated_normal(shape=filter_shape3), name='filter-3')\n",
    "            b3 = tf.Variable(tf.random_uniform(shape=[filter_nums[2]]), name='bias-3')\n",
    "            conv3 = tf.nn.conv2d(input_, W3, strides=stride, padding='VALID', name='conv-3')\n",
    "            out3 = tf.nn.relu(tf.nn.bias_add(conv3, b3))\n",
    "            max3 = tf.reduce_max(out3, axis=1) # batch_size, 1, 100\n",
    "        with tf.name_scope('conv-filter-4'):\n",
    "            filter_shape4= [filter_sizes[3], _len_alphabet, 1, filter_nums[3]]\n",
    "            W4 = tf.Variable(tf.truncated_normal(shape=filter_shape4), name='filter-4')\n",
    "            b4 = tf.Variable(tf.random_uniform(shape=[filter_nums[3]]), name='bias-4')\n",
    "            conv4 = tf.nn.conv2d(input_, W4, strides=stride, padding='VALID', name='conv-4')\n",
    "            out4 = tf.nn.relu(tf.nn.bias_add(conv4, b4))\n",
    "            max4 = tf.reduce_max(out4, axis=1) # batch_size, 1, 100\n",
    "        ## concat\n",
    "        max_concat = tf.squeeze(tf.concat([max1, max2, max3, max4], axis=2), axis=1) # batch_size, 400\n",
    "    ## MLP for feature reduction\n",
    "    with tf.variable_scope('review-MLP', reuse=reuse):\n",
    "        fc1 = slim.fully_connected(max_concat, mlp_units[0])\n",
    "        fc2 = slim.fully_connected(fc1, mlp_units[1])\n",
    "    result = tf.reshape(fc2, shape=[-1, max_len_review, mlp_units[1]])\n",
    "    return tf.reduce_sum(result, axis=1)"
   ]
  },
  {
   "cell_type": "code",
   "execution_count": 16,
   "metadata": {
    "collapsed": true
   },
   "outputs": [],
   "source": [
    "def image_CNN(img_mtx, mlp_units=[200,50], reuse=False, is_training=True):\n",
    "    with tf.variable_scope('image-CNN', reuse=reuse):\n",
    "        with slim.arg_scope([slim.conv2d], padding='SAME', activation_fn=None, \n",
    "                    stride = 2, weights_initializer=tf.contrib.layers.xavier_initializer()):\n",
    "            with slim.arg_scope([slim.batch_norm], decay=0.95, center=True, scale=True,\n",
    "                            updates_collections = None, activation_fn=tf.nn.relu,\n",
    "                            is_training =is_training):\n",
    "                conv1 = slim.conv2d(img_mtx, 6, [3,3], scope='conv-1')\n",
    "                bn1 = slim.batch_norm(conv1, scope='bn-1')\n",
    "                conv2 = slim.conv2d(bn1, 12, [3,3], scope='conv-2')\n",
    "                bn2 = slim.batch_norm(conv2, scope='bn-2')\n",
    "        with tf.variable_scope('MLP', reuse=reuse):\n",
    "            fc1 = slim.fully_connected(slim.flatten(bn2), mlp_units[0])\n",
    "            fc2 = slim.fully_connected(fc1, mlp_units[1])\n",
    "    return fc2"
   ]
  },
  {
   "cell_type": "code",
   "execution_count": 17,
   "metadata": {
    "collapsed": true
   },
   "outputs": [],
   "source": [
    "def userLSTM(lstm_input, hidden=128, reuse=False):\n",
    "    cell = rnn.BasicLSTMCell(hidden, reuse=reuse)\n",
    "    input_ = tf.unstack(lstm_input, axis=1)    \n",
    "    outputs, _ = rnn.static_rnn(cell, input_, dtype=tf.float32, scope='juungLSTM')\n",
    "    return outputs[-1]"
   ]
  },
  {
   "cell_type": "code",
   "execution_count": 18,
   "metadata": {
    "collapsed": true
   },
   "outputs": [],
   "source": [
    "def fc_pred(lstm_result, reuse=False):\n",
    "    fc1 = slim.fully_connected(lstm_result, 1024, scope='fc-1')\n",
    "    fc2 = slim.fully_connected(fc1, item_dim, scope='fc-2')\n",
    "    return fc2"
   ]
  },
  {
   "cell_type": "code",
   "execution_count": 19,
   "metadata": {
    "collapsed": true
   },
   "outputs": [],
   "source": [
    "def juung(char_mtx, img_mtx, meta, hidden=128, reuse=False):\n",
    "    review_result = review_CNN(char_mtx, reuse=False)\n",
    "    img_result = image_CNN(img_mtx)\n",
    "    concat_result = tf.concat([review_result, img_result, meta], axis=1)\n",
    "    lstm_input = tf.reshape(concat_result, shape=[-1, time_window, 185]) # 185 = 50+50+meta_dim\n",
    "    lstm_result = userLSTM(lstm_input, hidden=hidden)\n",
    "    pred = fc_pred(lstm_result)\n",
    "    return pred"
   ]
  },
  {
   "cell_type": "code",
   "execution_count": 20,
   "metadata": {
    "collapsed": false
   },
   "outputs": [],
   "source": [
    "pred = juung(char_mtx, img_mtx, meta)\n",
    "loss = tf.reduce_mean(tf.nn.softmax_cross_entropy_with_logits(labels=y, logits=pred))\n",
    "y_idx = tf.cast(tf.argmax(y, axis=1), dtype=tf.int32)\n",
    "top_k = tf.reduce_mean(tf.cast(tf.nn.in_top_k(pred, y_idx, k=10, name='top-k'), dtype=tf.float32))"
   ]
  },
  {
   "cell_type": "code",
   "execution_count": 21,
   "metadata": {
    "collapsed": false
   },
   "outputs": [
    {
     "data": {
      "text/plain": [
       "<tf.Tensor 'fc-2/Relu:0' shape=(?, 23274) dtype=float32>"
      ]
     },
     "execution_count": 21,
     "metadata": {},
     "output_type": "execute_result"
    }
   ],
   "source": [
    "pred"
   ]
  },
  {
   "cell_type": "markdown",
   "metadata": {
    "collapsed": true
   },
   "source": []
  },
  {
   "cell_type": "markdown",
   "metadata": {},
   "source": [
    "# Solver.py"
   ]
  },
  {
   "cell_type": "markdown",
   "metadata": {},
   "source": [
    "https://github.com/yunjey/domain-transfer-network/blob/master/solver.py  \n",
    "\n",
    "class solver():\n",
    "- init\n",
    "- load_data\n",
    "- batch_iter\n",
    "- train\n",
    "- eval(test)"
   ]
  },
  {
   "cell_type": "code",
   "execution_count": 22,
   "metadata": {
    "collapsed": true
   },
   "outputs": [],
   "source": [
    "def __init__():\n",
    "    data_path = 'data'\n",
    "    batch_size = 5\n",
    "    train_iter = 10\n",
    "    log_dir = 'logs/'\n",
    "    model_save = 'model/'"
   ]
  },
  {
   "cell_type": "code",
   "execution_count": 23,
   "metadata": {
    "collapsed": true
   },
   "outputs": [],
   "source": [
    "def sent_to_mtx(sentence, row_size=1000):\n",
    "    \"\"\"\n",
    "    sentence to character-level matrix\n",
    "    \"\"\"\n",
    "    alphabet = \"abcdefghijklmnopqrstuvwxyz0123456789-,;.!?:'\\\"/\\\\|_@#$%^&*~`+-=<>()[]{}\\n\"\n",
    "    sentence = sentence.lower()\n",
    "    if len(sentence) > row_size:\n",
    "        sentence = sentence[:row_size]\n",
    "    char_mtx = np.zeros([row_size, len(alphabet)], dtype=np.float32)\n",
    "    for i, char in enumerate(sentence):\n",
    "        if char in alphabet:\n",
    "            char_mtx[i, alphabet.index(char)] = 1\n",
    "    return char_mtx"
   ]
  },
  {
   "cell_type": "code",
   "execution_count": 24,
   "metadata": {
    "collapsed": true
   },
   "outputs": [],
   "source": [
    "def review_to_mtx(review):\n",
    "    mtx = []\n",
    "    for sent in review:\n",
    "        mtx.append(sent_to_mtx(sent))\n",
    "    return np.array(mtx)"
   ]
  },
  {
   "cell_type": "code",
   "execution_count": 25,
   "metadata": {
    "collapsed": true
   },
   "outputs": [],
   "source": [
    "def read_data(mode):\n",
    "    '''\n",
    "    mode is 'train', 'val' or 'test'\n",
    "    '''\n",
    "    file_list = [x for x in os.listdir('data') if mode in x]\n",
    "    file_name = random.sample(file_list, k=1)\n",
    "    print(\"Opening... {}\".format(file_name[0]))\n",
    "    with open('data/'+file_name[0], 'rb') as f:\n",
    "        data = pickle.load(f)\n",
    "    print(\"Done!\")\n",
    "    return data"
   ]
  },
  {
   "cell_type": "code",
   "execution_count": 26,
   "metadata": {
    "collapsed": true
   },
   "outputs": [],
   "source": [
    "def batch_iter(data, asin_dict, batch_size, num_epochs = 2, shuffle = True):\n",
    "    # data[0]: 1000 length list, each list is array of shape (10, 32, 32, 3)\n",
    "    img = np.array(data[0]) # shape: (1000, 10, 32, 32, 3)\n",
    "    review = np.array(data[1])\n",
    "    meta = np.array(data[2]) \n",
    "    asin = np.array(data[3])\n",
    "    data_size = len(data[0])\n",
    "    num_batches_per_epoch = int(data_size / batch_size) + 1\n",
    "    \n",
    "    for epoch in range(num_epochs):\n",
    "        if shuffle:\n",
    "            shuffle_indices = np.random.permutation(np.arange(data_size))\n",
    "            img_ , review_, meta_, asin_ = img[shuffle_indices], review[shuffle_indices], meta[shuffle_indices], asin[shuffle_indices]\n",
    "        else:\n",
    "            img_ , review_, meta_, asin_ = img, review, meta, asin\n",
    "        \n",
    "        for batch_num in range(num_batches_per_epoch):\n",
    "            start_index = batch_num * batch_size\n",
    "            end_index = (batch_num + 1) * batch_size\n",
    "            if end_index < data_size:\n",
    "                img_batch = np.reshape(img_[start_index:end_index], [-1,32,32,3]) # (batch_size*10, 32,32,3)\n",
    "                meta_batch = np.reshape(meta_[start_index:end_index], [-1,85])\n",
    "                \n",
    "                review_batch = np.reshape(review_[start_index:end_index], [-1, 288])\n",
    "                review_batch_transform = []\n",
    "                for index in range(review_batch.shape[0]):\n",
    "                    review_batch_transform.append(review_to_mtx(review_batch[index]))\n",
    "                review_batch_transform = np.array(review_batch_transform)\n",
    "                \n",
    "                asin_batch = asin_[start_index:end_index]\n",
    "                asin_batch_encode = []\n",
    "                for index in range(asin_batch.shape[0]):\n",
    "                    asin_batch_encode.append(asin_dict[asin_batch[index][0]])\n",
    "                asin_batch_encode = np.array(asin_batch_encode)\n",
    "#                 yield (img_batch, review_batch_transform, meta_batch, asin_batch_encode)\n",
    "                yield list(zip(img_batch, review_batch_transform, meta_batch, asin_batch_encode))            \n",
    "#     randix = np.random.randint(len(data[0]), size = batch_size)\n",
    "#     batch_img = np.reshape(np.array(data[0])[randix], [-1, 32, 32, 3])\n",
    "#     batch_meta = np.reshape(np.array(data[2])[randix], [-1, 85])\n",
    "    \n",
    "#     batch_review = np.reshape(np.array(data[1])[randix], [-1,288])\n",
    "#     batch_review_transform = []\n",
    "#     for index in range(batch_review.shape[0]):\n",
    "#         batch_review_transform.append(review_to_mtx(batch_review[index]))\n",
    "#     batch_review_transform = np.array(batch_review_transform)\n",
    "    \n",
    "#     batch_asin = np.array(data[3])[randix]\n",
    "#     batch_asin_encode = []\n",
    "#     for index in range(batch_asin.shape[0]):\n",
    "#         batch_asin_encode.append(asin_dict[batch_asin[index][0]])\n",
    "#     batch_asin_encode = np.array(batch_asin_encode)\n",
    "    \n",
    "#     return batch_img, batch_review_transform, batch_meta, batch_asin_encode"
   ]
  },
  {
   "cell_type": "code",
   "execution_count": 27,
   "metadata": {
    "collapsed": true
   },
   "outputs": [],
   "source": [
    "with open('asin_dict.pkl', 'rb') as f:\n",
    "    asin_dict = pickle.load(f)"
   ]
  },
  {
   "cell_type": "code",
   "execution_count": 28,
   "metadata": {
    "collapsed": false
   },
   "outputs": [
    {
     "name": "stdout",
     "output_type": "stream",
     "text": [
      "Opening... train_6.pkl\n",
      "Done!\n"
     ]
    }
   ],
   "source": [
    "train_data = read_data('train')"
   ]
  },
  {
   "cell_type": "code",
   "execution_count": null,
   "metadata": {
    "collapsed": true
   },
   "outputs": [],
   "source": [
    "learning_rate = 2e-4"
   ]
  },
  {
   "cell_type": "code",
   "execution_count": null,
   "metadata": {
    "collapsed": false
   },
   "outputs": [],
   "source": [
    "# with graph.as_default():\n",
    "sess = tf.Session()\n",
    "with sess.as_default():\n",
    "    global_step = tf.Variable(0, name='global_step', trainable=False)\n",
    "    opt = tf.train.AdamOptimizer(learning_rate).minimize(loss, global_step)\n",
    "    sess.run(tf.global_variables_initializer())\n",
    "    batch_train = batch_iter(train_data, asin_dict, batch_size=10, num_epochs=2)\n",
    "    for train in batch_train:\n",
    "        img_batch, review_batch, meta_batch, asin_batch = zip(*train)\n",
    "        feed_dict = {char_mtx : review_batch, img_mtx : img_batch, meta: meta_batch, y : asin_batch}\n",
    "        current_step = sess.run(global_step, feed_dict = feed_dict)\n",
    "        sess.run(opt, feed_dict=feed_dict)\n",
    "        if current_step % 10 == 0:\n",
    "            print(\"step: {}\".format(current_step))\n",
    "            print(\"====validation start====\")\n",
    "            batch_val = batch_iter(train_data, batch_size, 1, asin_dict)\n",
    "            top_ks = []\n",
    "            for val in batch_val:\n",
    "                img_val, review_val, meta_val, asin_val = zip(*train)\n",
    "                feed_dict = {char_mtx : review_val, img_mtx : img_val, meta: meta_val, y : asin_val}\n",
    "                top_k = sess.run(top_k, feed_dict = feed_dict)\n",
    "                top_ks.append(top_k)\n",
    "            print(\"Mean top_k = \" + str(sum(top_ks)/len(top_ks)))\n",
    "            print(\"===========training============\")\n",
    "        print(\"Training finished.\")  "
   ]
  },
  {
   "cell_type": "code",
   "execution_count": null,
   "metadata": {
    "collapsed": true
   },
   "outputs": [],
   "source": [
    "def train():\n",
    "    with open('asin_dict.pkl', 'rb') as f:\n",
    "        asin_dict = pickle.load(f)\n",
    "    train_data = read_data('train')\n",
    "#     model = self.model\n",
    "#     model.build()\n",
    "    \n",
    "#     if tf.gfile.Exists(self.log_dir):\n",
    "#         tf.gfile.DeleteRecursively(self.log_dir)\n",
    "#     tf.gfile.MakeDirs(self.log_dir)\n",
    "    \n",
    "    print(\"data load finished\")\n",
    "    print(type(loss))\n",
    "    with tf.Graph().as_default():\n",
    "        sess = tf.Session()\n",
    "        with sess.as_default():\n",
    "#             juung = Model()\n",
    "            \n",
    "            global_step = tf.Variable(0, name = 'global_step', trainable = False)\n",
    "            opt = tf.train.AdamOptimizer(0.0002)\n",
    "            optimizer = opt.minimize(loss, global_step = global_step)\n",
    "            print(\"training prepared!\")\n",
    "#             loss_train = tf.summary.scalar('loss_train', loss)\n",
    "#             top_k_train = tf.summary.scalar(\"top_k_train\", top_k)\n",
    "#             train_summary_ops = tf.summary.merge([loss_train, top_k_train])\n",
    "            \n",
    "#             loss_val = tf.summary.scalar('loss_val', loss)\n",
    "#             top_k_val = tf.summary.scalar(\"top_k_val\", top_k)\n",
    "#             val_summary_ops = tf.summary.merge([loss_val, top_k_val])\n",
    "            \n",
    "#             saver = tf.train.Saver(tf.global_variables(), max_to_keep = 4)\n",
    "#             sess.run(tf.global_variables_initializer())\n",
    "            \n",
    "#             summary_writer = tf.summary.FileWriter('logs', sess.graph)\n",
    "\n",
    "            batch_train = batch_iter(train_data, batch_size, 2, asin_dict)\n",
    "            for train in batch_train:\n",
    "                img_batch, review_batch, meta_batch, asin_batch = zip(*train)\n",
    "                feed_dict = {char_mtx : review_batch, img_mtx : img_batch, meta: meta_batch, y : asin_batch}\n",
    "                current_step = sess.run(global_step, feed_dict = feed_dict)\n",
    "                optimizer.run(feed_dict = feed_dict)\n",
    "                if current_step % 10 == 0:\n",
    "                    print(\"step: {}\".format(current_step))\n",
    "                    print(\"====validation start====\")\n",
    "                    batch_val = batch_iter(train_data, batch_size, 1, asin_dict)\n",
    "                    top_ks = []\n",
    "                    for val in batch_val:\n",
    "                        img_val, review_val, meta_val, asin_val = zip(*train)\n",
    "                        feed_dict = {char_mtx : review_val, img_mtx : img_val, meta: meta_val, y : asin_val}\n",
    "                        top_k = sess.run(top_k, feed_dict = feed_dict)\n",
    "                        top_ks.append(top_k)\n",
    "                    print(\"Mean top_k = \" + str(sum(top_ks)/len(top_ks)))\n",
    "                    print(\"===========training============\")\n",
    "        print(\"Training finished.\")            "
   ]
  },
  {
   "cell_type": "code",
   "execution_count": null,
   "metadata": {
    "collapsed": false
   },
   "outputs": [],
   "source": [
    "train()"
   ]
  },
  {
   "cell_type": "code",
   "execution_count": null,
   "metadata": {
    "collapsed": false
   },
   "outputs": [],
   "source": [
    "type(loss)"
   ]
  }
 ],
 "metadata": {
  "kernelspec": {
   "display_name": "Python 3",
   "language": "python",
   "name": "python3"
  },
  "language_info": {
   "codemirror_mode": {
    "name": "ipython",
    "version": 3
   },
   "file_extension": ".py",
   "mimetype": "text/x-python",
   "name": "python",
   "nbconvert_exporter": "python",
   "pygments_lexer": "ipython3",
   "version": "3.6.0"
  }
 },
 "nbformat": 4,
 "nbformat_minor": 2
}
